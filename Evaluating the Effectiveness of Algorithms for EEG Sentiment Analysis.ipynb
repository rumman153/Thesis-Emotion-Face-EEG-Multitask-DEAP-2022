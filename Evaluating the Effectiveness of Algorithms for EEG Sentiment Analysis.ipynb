{
  "nbformat": 4,
  "nbformat_minor": 0,
  "metadata": {
    "colab": {
      "name": "Documentation_of_Differernt_algorithms_classifying_sentiment_EEG.ipynb",
      "provenance": [],
      "collapsed_sections": [
        "zxp9Zq8SXH_e",
        "KSdfGQE6FmIg"
      ],
      "machine_shape": "hm"
    },
    "kernelspec": {
      "name": "python3",
      "display_name": "Python 3"
    },
    "language_info": {
      "name": "python"
    },
    "accelerator": "GPU"
  },
  "cells": [
    {
      "cell_type": "markdown",
      "source": [
        "This is the documentation for \"Evaluating the Effectiveness of Algorithms for EEG Sentiment Analysis\" paper by\n",
        "\n",
        "1.   Sumya Akter\n",
        "2.   Rumman Ahmed Prodhan\n",
        "1.   Muhammad Bin Mujib\n",
        "2.   Md. Akhtaruzzaman Adnan\n",
        "2.   Tanmoy Sarkar Pias (Corresponding Author)\n",
        "\n",
        "\n",
        "\n",
        "\n",
        "\n",
        "\n",
        "\n"
      ],
      "metadata": {
        "id": "7LbxKjg5FjOz"
      }
    },
    {
      "cell_type": "markdown",
      "source": [
        "**Pyeeg has been installed**"
      ],
      "metadata": {
        "id": "VQFc1dGpCzLC"
      }
    },
    {
      "cell_type": "code",
      "execution_count": null,
      "metadata": {
        "colab": {
          "base_uri": "https://localhost:8080/"
        },
        "id": "dAEVJFOgBnY_",
        "outputId": "520e57e2-030e-4691-afe9-1194a1c4f39c"
      },
      "outputs": [
        {
          "output_type": "stream",
          "name": "stdout",
          "text": [
            "Collecting git+https://github.com/forrestbao/pyeeg.git\n",
            "  Cloning https://github.com/forrestbao/pyeeg.git to /tmp/pip-req-build-07jc0q14\n",
            "  Running command git clone -q https://github.com/forrestbao/pyeeg.git /tmp/pip-req-build-07jc0q14\n",
            "Requirement already satisfied: numpy>=1.9.2 in /usr/local/lib/python3.7/dist-packages (from pyeeg==0.4.4) (1.21.6)\n",
            "Building wheels for collected packages: pyeeg\n",
            "  Building wheel for pyeeg (setup.py) ... \u001b[?25l\u001b[?25hdone\n",
            "  Created wheel for pyeeg: filename=pyeeg-0.4.4-py2.py3-none-any.whl size=28131 sha256=470a97d728dd6f8b7dea65293272e7a5340fcca881d3f2f082954f2e724dfa4e\n",
            "  Stored in directory: /tmp/pip-ephem-wheel-cache-gfzaz2ot/wheels/b0/23/e4/703c908bda656959957029fa145879aa79307b2545a2ef0271\n",
            "Successfully built pyeeg\n",
            "Installing collected packages: pyeeg\n",
            "Successfully installed pyeeg-0.4.4\n"
          ]
        }
      ],
      "source": [
        "pip install git+https://github.com/forrestbao/pyeeg.git"
      ]
    },
    {
      "cell_type": "markdown",
      "source": [
        "**Here is the code for mounting google drive**"
      ],
      "metadata": {
        "id": "xr7cRJkjC7s2"
      }
    },
    {
      "cell_type": "code",
      "source": [
        "from google.colab import drive\n",
        "drive.mount('/content/drive')"
      ],
      "metadata": {
        "colab": {
          "base_uri": "https://localhost:8080/"
        },
        "id": "eI3Cq6plC6gU",
        "outputId": "d10679ac-319b-40d1-eb87-7fff97c94832"
      },
      "execution_count": null,
      "outputs": [
        {
          "output_type": "stream",
          "name": "stdout",
          "text": [
            "Mounted at /content/drive\n"
          ]
        }
      ]
    },
    {
      "cell_type": "code",
      "source": [
        "!pip install pyeeg"
      ],
      "metadata": {
        "colab": {
          "base_uri": "https://localhost:8080/"
        },
        "id": "dqactiPMDO0t",
        "outputId": "a0154a8c-a142-4f71-b3f7-df5ac38dac29"
      },
      "execution_count": null,
      "outputs": [
        {
          "output_type": "stream",
          "name": "stdout",
          "text": [
            "Requirement already satisfied: pyeeg in /usr/local/lib/python3.7/dist-packages (0.4.4)\n",
            "Requirement already satisfied: numpy>=1.9.2 in /usr/local/lib/python3.7/dist-packages (from pyeeg) (1.21.6)\n"
          ]
        }
      ]
    },
    {
      "cell_type": "markdown",
      "source": [
        "**Imported the necessery library packages**"
      ],
      "metadata": {
        "id": "1odiyKSWDlxE"
      }
    },
    {
      "cell_type": "code",
      "source": [
        "import numpy as np\n",
        "import pyeeg as pe\n",
        "import pickle as pickle\n",
        "import pandas as pd\n",
        "import math\n",
        "\n",
        "from sklearn import svm\n",
        "from sklearn.preprocessing import normalize\n",
        "\n",
        "import os\n",
        "import time"
      ],
      "metadata": {
        "id": "9KXEoIEJDUfB"
      },
      "execution_count": null,
      "outputs": []
    },
    {
      "cell_type": "markdown",
      "source": [
        "**Location of dat file and location for where to save preprocessed npy files**"
      ],
      "metadata": {
        "id": "EijnrkfaI9en"
      }
    },
    {
      "cell_type": "code",
      "source": [
        "path_to_dataset_2 = '/content/drive/Shareddrives/DEAP EEG/Dataset/physiological_recordings/data_preprocessed_python/' #Location of dat file of DEAP dataset\n",
        "path_to_dataset = '/content/drive/Shareddrives/DEAP EEG/Preprocessed_data/' #where to save preprocessed npy files"
      ],
      "metadata": {
        "id": "0lkEoCCMGGOd"
      },
      "execution_count": null,
      "outputs": []
    },
    {
      "cell_type": "markdown",
      "source": [
        "**Intialize the channel array, band array, window_size, step_size and sample_rate and set the path of dataset of google drive.**"
      ],
      "metadata": {
        "id": "t3KXIYjUJxuf"
      }
    },
    {
      "cell_type": "code",
      "source": [
        "channel = [1,2,3,4,6,11,13,17,19,20,21,25,29,31] #14 Channels chosen to fit Emotiv Epoch+\n",
        "\n",
        "band = [4,8,12,16,25,45] #5 bands\n",
        "\n",
        "window_size = 256 #Averaging band power of 2 sec\n",
        "\n",
        "step_size = 16 #Each 0.125 sec update once\n",
        "\n",
        "sample_rate = 128 #Sampling rate of 128 Hz\n",
        "\n",
        "subjectList=[] #taking an empty array to store subject numbers here\n",
        "for i in range(1,33):\n",
        "  if i<10:\n",
        "     subjectList.append(f\"{i:02d}\") #to add extra '0' infront of 1 to 9 single digits\n",
        "  else:\n",
        "    subjectList.append(f\"{i:2d}\")\n"
      ],
      "metadata": {
        "id": "t3sbANm4Dqgg"
      },
      "execution_count": null,
      "outputs": []
    },
    {
      "cell_type": "markdown",
      "source": [
        "**Declaring FFT function. Taking the preprocessed dat file and converting it to a preprocessed npy file after FFT**"
      ],
      "metadata": {
        "id": "xc84CUnAKcyP"
      }
    },
    {
      "cell_type": "code",
      "source": [
        "def FFT_Processing (sub, channel, band, window_size, step_size, sample_rate):\n",
        "    '''\n",
        "    arguments:  string subject\n",
        "                list channel indice\n",
        "                list band\n",
        "                int window size for FFT\n",
        "                int step size for FFT\n",
        "                int sample rate for FFT\n",
        "    return:     void\n",
        "    '''\n",
        "    meta = []\n",
        "    with open(path_to_dataset_2+'s' + sub + '.dat', 'rb') as file:\n",
        "\n",
        "        subject = pickle.load(file, encoding='latin1') #resolve the python 2 data problem by encoding : latin1\n",
        "\n",
        "        for i in range (0,40):\n",
        "            # loop over 0-39 trails\n",
        "            data = subject[\"data\"][i]\n",
        "            labels = subject[\"labels\"][i]\n",
        "            start = 0;\n",
        "\n",
        "            while start + window_size < data.shape[1]:\n",
        "                meta_array = []\n",
        "                meta_data = [] #meta vector for analysis\n",
        "                for j in channel:\n",
        "                    X = data[j][start : start + window_size] #Slice raw data over 2 sec, at interval of 0.125 sec\n",
        "                    Y = pe.bin_power(X, band, sample_rate) #FFT over 2 sec of channel j, in seq of theta, alpha, low beta, high beta, gamma\n",
        "                    meta_data = meta_data + list(Y[0])\n",
        "\n",
        "                meta_array.append(np.array(meta_data))\n",
        "                meta_array.append(labels)\n",
        "\n",
        "                meta.append(np.array(meta_array))    \n",
        "                start = start + step_size\n",
        "                \n",
        "        meta = np.array(meta)\n",
        "        np.save(path_to_dataset+'s' + sub, meta, allow_pickle=True, fix_imports=True) #saving each of the 32 files as npy after preprocessing"
      ],
      "metadata": {
        "id": "6f3ZQ2XxKWG3"
      },
      "execution_count": null,
      "outputs": []
    },
    {
      "cell_type": "markdown",
      "source": [
        "**Calling the FFT functions for each subjects**"
      ],
      "metadata": {
        "id": "_d69HDzKLfGL"
      }
    },
    {
      "cell_type": "code",
      "source": [
        "for subjects in subjectList:\n",
        "    FFT_Processing (subjects, channel, band, window_size, step_size, sample_rate)"
      ],
      "metadata": {
        "id": "ZVtxUronLVn_"
      },
      "execution_count": null,
      "outputs": []
    },
    {
      "cell_type": "code",
      "source": [
        "import numpy as np\n",
        "# save np.load\n",
        "np_load_old = np.load\n",
        "\n",
        "# modify the default parameters of np.load\n",
        "np.load = lambda *a,**k: np_load_old(*a, allow_pickle=True, **k)"
      ],
      "metadata": {
        "id": "4sxRkCAULkec"
      },
      "execution_count": null,
      "outputs": []
    },
    {
      "cell_type": "markdown",
      "source": [
        "##Dividing the Data into Training and Testing\n"
      ],
      "metadata": {
        "id": "zxp9Zq8SXH_e"
      }
    },
    {
      "cell_type": "markdown",
      "source": [
        "#spliting and appending each npy into training, testing (75/25)\n",
        "Dividing the 32 preprocessed npy file into data training, label training, data testing and label testing. Every npy file has 19520 rows and 4 columns which are valence, arousal, dominace and likings. Every npy file was divided by 4.\n",
        "\n",
        "For each npy file\n",
        "\n",
        "*   Training : 19520-4880=14640 (75%)\n",
        "*   Testing : 19520/4=4880 (25%)\n",
        "\n",
        "For training and testing\n",
        "* The data training and label training both has 14640*32=468480 rows (75%)\n",
        "* The data testing and label testing both has 4880*32=156160 rows (25%)\n",
        "\n",
        "\n",
        "\n",
        "\n",
        "\n",
        "\n",
        "\n"
      ],
      "metadata": {
        "id": "3EMC3SZHMu0Q"
      }
    },
    {
      "cell_type": "code",
      "source": [
        "data_training = []\n",
        "label_training = []\n",
        "data_testing = []\n",
        "label_testing = []\n",
        "\n",
        "for subjects in subjectList:\n",
        "\n",
        "    with open(path_to_dataset + 's' + subjects + '.npy', 'rb') as file: \n",
        "        sub = np.load(file) # loading npy file\n",
        "        for i in range (0,sub.shape[0]): # running loop over 19520 rows\n",
        "            if i % 4 == 0: # 19520/4=4880 (25%)\n",
        "                data_testing.append(sub[i][0])\n",
        "                label_testing.append(sub[i][1])\n",
        "            else: # 19520-4880=14640 (75%)\n",
        "                data_training.append(sub[i][0])\n",
        "                label_training.append(sub[i][1])"
      ],
      "metadata": {
        "id": "TwHdOxxKxnSz"
      },
      "execution_count": null,
      "outputs": []
    },
    {
      "cell_type": "code",
      "source": [
        "# restore np.load for future normal usage\n",
        "np.load = np_load_old"
      ],
      "metadata": {
        "id": "HNYEvstFWIHw"
      },
      "execution_count": null,
      "outputs": []
    },
    {
      "cell_type": "markdown",
      "source": [
        "**Saving the data training, label training, data testing and label testing into google drive**\n"
      ],
      "metadata": {
        "id": "Jj2YXrgGWSIA"
      }
    },
    {
      "cell_type": "code",
      "source": [
        "np.save(path_to_dataset + 'data_training', np.array(data_training), allow_pickle=True, fix_imports=True)\n",
        "np.save(path_to_dataset + 'label_training', np.array(label_training), allow_pickle=True, fix_imports=True)\n",
        "print(\"training dataset:\", np.array(data_training).shape, np.array(label_training).shape)\n",
        "\n",
        "np.save(path_to_dataset + 'data_testing', np.array(data_testing), allow_pickle=True, fix_imports=True)\n",
        "np.save(path_to_dataset + 'label_testing', np.array(label_testing), allow_pickle=True, fix_imports=True)\n",
        "print(\"testing dataset:\", np.array(data_testing).shape, np.array(label_testing).shape)"
      ],
      "metadata": {
        "id": "QNQzV0_2WKy0",
        "colab": {
          "base_uri": "https://localhost:8080/"
        },
        "outputId": "7c7f426e-a919-48da-de09-e7412926f7ef"
      },
      "execution_count": null,
      "outputs": [
        {
          "output_type": "stream",
          "name": "stdout",
          "text": [
            "training dataset: (468480, 70) (468480, 4)\n",
            "testing dataset: (156160, 70) (156160, 4)\n"
          ]
        }
      ]
    },
    {
      "cell_type": "markdown",
      "source": [
        "**Here all the training file have been loaded .The data have been put in variable X and label values have been put in Y.Then the X has been Normalized and then valence label values have been loaded in Z. And then all the '9' values are converted into '8.99' of valence label.**"
      ],
      "metadata": {
        "id": "MQu1A2EE8rDU"
      }
    },
    {
      "cell_type": "code",
      "source": [
        "with open(path_to_dataset + 'data_training.npy', 'rb') as fileTrain:\n",
        "    X  = np.load(fileTrain)\n",
        "    \n",
        "with open(path_to_dataset + 'label_training.npy', 'rb') as fileTrainL:\n",
        "    Y  = np.load(fileTrainL)\n",
        "    \n",
        "X = normalize(X)\n",
        "Z = np.ravel(Y[:, [0]])\n",
        "\n",
        "Valence_Train = np.ravel(Y[:, [0]])\n",
        "Arousal_Train = np.ravel(Y[:, [1]])\n",
        "Domain_Train = np.ravel(Y[:, [2]])\n",
        "Like_Train = np.ravel(Y[:, [3]])\n",
        "\n",
        "for i in range(len(Z)):\n",
        "  if Z[i] == 9:\n",
        "    Z[i] = 8.99"
      ],
      "metadata": {
        "id": "y3mIzhwO8o_o"
      },
      "execution_count": null,
      "outputs": []
    },
    {
      "cell_type": "markdown",
      "source": [
        "**All the training label values are divided into two segments. One segment contains values from 1 - 4.9 and another contains rest of the range's values. This approch is maintained for valence, arousal, dominance, likings binary classifications but not for other class classification.**\n"
      ],
      "metadata": {
        "id": "ukkvhSy59UmL"
      }
    },
    {
      "cell_type": "code",
      "source": [
        "count_0 = 0\n",
        "count_1 = 0\n",
        "for i in range(len(Z)):\n",
        "  if Z[i] >= 1 and Z[i]<=4.99:\n",
        "    Z [i] = 0\n",
        "    count_0 = count_0 + 1\n",
        "  else:\n",
        "    Z [i] = 1\n",
        "    count_1 = count_1 + 1\n",
        "print(count_0,count_1)"
      ],
      "metadata": {
        "id": "qKo3Al4q9QGN",
        "colab": {
          "base_uri": "https://localhost:8080/"
        },
        "outputId": "d33ba4ae-e2e2-4e52-a894-2fb40339f1d8"
      },
      "execution_count": null,
      "outputs": [
        {
          "output_type": "stream",
          "name": "stdout",
          "text": [
            "203496 264984\n"
          ]
        }
      ]
    },
    {
      "cell_type": "markdown",
      "source": [
        "**Necessery libraries are imported**\n"
      ],
      "metadata": {
        "id": "XJjrH5BI9oQA"
      }
    },
    {
      "cell_type": "code",
      "source": [
        "import pandas as pd\n",
        "import keras.backend as K\n",
        "import numpy as np\n",
        "import pandas as pd\n",
        "from keras.models import Sequential\n",
        "from keras.layers import Dense\n",
        "from keras.layers.convolutional import Conv1D\n",
        "from tensorflow.keras.utils import to_categorical \n",
        "from keras.layers import Flatten\n",
        "from keras.layers import Dense\n",
        "import keras\n",
        "from keras.datasets import mnist\n",
        "from keras.models import Sequential\n",
        "from keras.layers import Dense, Dropout, Flatten, Conv2D, MaxPooling2D\n",
        "from keras import backend as K\n",
        "from keras.models import Model\n",
        "import timeit\n",
        "from keras.layers.core import Flatten, Dense, Dropout\n",
        "from keras.layers.convolutional import Convolution1D, MaxPooling1D, ZeroPadding1D\n",
        "import warnings\n",
        "warnings.filterwarnings('ignore')"
      ],
      "metadata": {
        "id": "uFjlpfPT9lmG"
      },
      "execution_count": null,
      "outputs": []
    },
    {
      "cell_type": "markdown",
      "source": [
        "**Here all the training label values are categorised. For binary classification and it is catagorised into two catagory. value range 1 - 4.99 have been assigned in catagory '0' and rest of the value are assigned in catagory '1'.** \n",
        "\n",
        "1.  1-4.99 ----> catagory(0)\n",
        "2.  5-8.99 ----> catagory(1)"
      ],
      "metadata": {
        "id": "fLj9JB7QCBXJ"
      }
    },
    {
      "cell_type": "code",
      "source": [
        "y_train = to_categorical(Z)\n",
        "y_train[:10]"
      ],
      "metadata": {
        "id": "4KiVKopf_LXx",
        "colab": {
          "base_uri": "https://localhost:8080/"
        },
        "outputId": "1b77ffca-a51a-4fcc-e192-e807d8a1dc95"
      },
      "execution_count": null,
      "outputs": [
        {
          "output_type": "execute_result",
          "data": {
            "text/plain": [
              "array([[0., 1.],\n",
              "       [0., 1.],\n",
              "       [0., 1.],\n",
              "       [0., 1.],\n",
              "       [0., 1.],\n",
              "       [0., 1.],\n",
              "       [0., 1.],\n",
              "       [0., 1.],\n",
              "       [0., 1.],\n",
              "       [0., 1.]], dtype=float32)"
            ]
          },
          "metadata": {},
          "execution_count": 11
        }
      ]
    },
    {
      "cell_type": "markdown",
      "source": [
        "**Values of X are put in x_train as numpy array format**"
      ],
      "metadata": {
        "id": "E2ZJr6OkCwLU"
      }
    },
    {
      "cell_type": "code",
      "source": [
        "x_train = np.array(X[:])"
      ],
      "metadata": {
        "id": "AWkP9PIVCrKm"
      },
      "execution_count": null,
      "outputs": []
    },
    {
      "cell_type": "markdown",
      "source": [
        "**Here all the testing file have been loaded .The data have been put in variable M and label values have been put in N.Then the M has been Normalized and then valence label values have been loaded in L. And then all the '9' values are converted into '8.99' of valence label.**"
      ],
      "metadata": {
        "id": "voUuOfkiDGCu"
      }
    },
    {
      "cell_type": "code",
      "source": [
        "with open(path_to_dataset + 'data_testing.npy', 'rb') as fileTrain:\n",
        "    M  = np.load(fileTrain)\n",
        "    \n",
        "with open(path_to_dataset + 'label_testing.npy', 'rb') as fileTrainL:\n",
        "    N  = np.load(fileTrainL)\n",
        "\n",
        "M = normalize(M)\n",
        "L = np.ravel(N[:, [0]])\n",
        "\n",
        "\n",
        "Valence_Test = np.ravel(N[:, [0]])\n",
        "Arousal_Test = np.ravel(N[:, [1]])\n",
        "Domain_Test = np.ravel(N[:, [2]])\n",
        "Like_Test = np.ravel(N[:, [3]])\n",
        "\n",
        "for i in range(len(L)):\n",
        "  if L[i] == 9:\n",
        "    L[i] = 8.99"
      ],
      "metadata": {
        "id": "BsPYGOggDD57"
      },
      "execution_count": null,
      "outputs": []
    },
    {
      "cell_type": "markdown",
      "source": [
        "**All the testing labels values are divided into two segments. One segment contains values from 1 - 4.9 and another contains rest of the range's values. This approch is maintained for valence, arousal, dominance, likings binary classifications but not for other class classification.**"
      ],
      "metadata": {
        "id": "VcCAh-CLDlzc"
      }
    },
    {
      "cell_type": "code",
      "source": [
        "count_0 = 0\n",
        "count_1 = 0\n",
        "for i in range(len(L)):\n",
        "  if L[i] >= 1 and L[i]<=4.99:\n",
        "    L [i] = 0\n",
        "    count_0 = count_0 + 1\n",
        "  else:\n",
        "    L [i] = 1\n",
        "    count_1 = count_1 + 1\n",
        "print(count_0,count_1)"
      ],
      "metadata": {
        "id": "m-a4LQwrDNha",
        "colab": {
          "base_uri": "https://localhost:8080/"
        },
        "outputId": "d23ef98c-04f3-42f8-a823-420210534d74"
      },
      "execution_count": null,
      "outputs": [
        {
          "output_type": "stream",
          "name": "stdout",
          "text": [
            "67832 88328\n"
          ]
        }
      ]
    },
    {
      "cell_type": "markdown",
      "source": [
        "**Vules of M are assigned in x_test in numpy array format**"
      ],
      "metadata": {
        "id": "kHeeUA-NDs7g"
      }
    },
    {
      "cell_type": "code",
      "source": [
        "x_test = np.array(M[:])\n",
        "x_test"
      ],
      "metadata": {
        "id": "9p5OtTSpDowv",
        "colab": {
          "base_uri": "https://localhost:8080/"
        },
        "outputId": "167f37dd-d556-4fe9-c2ba-a66f78fa6695"
      },
      "execution_count": null,
      "outputs": [
        {
          "output_type": "execute_result",
          "data": {
            "text/plain": [
              "array([[0.07006464, 0.10438554, 0.06634758, ..., 0.10698754, 0.14264875,\n",
              "        0.12007955],\n",
              "       [0.07695878, 0.10655808, 0.05897592, ..., 0.09381841, 0.14959873,\n",
              "        0.12751455],\n",
              "       [0.07546743, 0.08606705, 0.07999725, ..., 0.12147734, 0.13970255,\n",
              "        0.12824657],\n",
              "       ...,\n",
              "       [0.1897225 , 0.11085076, 0.04970787, ..., 0.02452725, 0.05530559,\n",
              "        0.06475889],\n",
              "       [0.17817637, 0.08834064, 0.05389381, ..., 0.03475489, 0.05801423,\n",
              "        0.06873259],\n",
              "       [0.14543648, 0.08345535, 0.04799341, ..., 0.02695435, 0.06128512,\n",
              "        0.07725748]])"
            ]
          },
          "metadata": {},
          "execution_count": 15
        }
      ]
    },
    {
      "cell_type": "markdown",
      "source": [
        "**Here all the tessting labels values are categorised. For binary classification and it is catagorised into two catagory. value range 1 - 4.99 have been assigned in catagory '0' and rest of the value are assigned in catagory '1'.**\n",
        "\n",
        "* 1-4.99 ----> catagory(0)\n",
        "* 5-8.99 ----> catagory(1)"
      ],
      "metadata": {
        "id": "Dmad0dIeD9p1"
      }
    },
    {
      "cell_type": "code",
      "source": [
        "from tensorflow.keras.utils import to_categorical \n",
        "y_test = to_categorical(L)"
      ],
      "metadata": {
        "id": "NjtJICaLDxSu"
      },
      "execution_count": null,
      "outputs": []
    },
    {
      "cell_type": "markdown",
      "source": [
        "**Fit the train and test data with StandarScaler**"
      ],
      "metadata": {
        "id": "Mv9gbfQ4Ej2_"
      }
    },
    {
      "cell_type": "code",
      "source": [
        "from sklearn.preprocessing import StandardScaler\n",
        "scaler = StandardScaler()\n",
        "x_train = scaler.fit_transform(x_train)\n",
        "x_test = scaler.fit_transform(x_test)"
      ],
      "metadata": {
        "id": "HJmfBhkzEgWD"
      },
      "execution_count": null,
      "outputs": []
    },
    {
      "cell_type": "markdown",
      "source": [
        "**Two dimensional data are converted into three dimension by adding one constant dimension’s value '1'. This is for CNN, LSTM and Bi-LSTM only**"
      ],
      "metadata": {
        "id": "lj8TbcDrEuTc"
      }
    },
    {
      "cell_type": "code",
      "source": [
        "x_train = x_train.reshape(x_train.shape[0],x_train.shape[1], 1)\n",
        "x_test = x_test.reshape(x_test.shape[0],x_test.shape[1], 1)"
      ],
      "metadata": {
        "id": "JRyWUvT2ErVP"
      },
      "execution_count": null,
      "outputs": []
    },
    {
      "cell_type": "markdown",
      "source": [
        "**Here define the batch_size, number of class used in model architecture ,how many epoch will be run with the model and also define the input_shape. This is for CNN, LSTM and Bi-LSTM only**"
      ],
      "metadata": {
        "id": "WNHhtPjXE00n"
      }
    },
    {
      "cell_type": "code",
      "source": [
        "batch_size = 256\n",
        "num_classes = 2\n",
        "epochs = 100\n",
        "\n",
        "input_shape=(x_train.shape[1], 1)"
      ],
      "metadata": {
        "id": "JNok-kthEy8I"
      },
      "execution_count": null,
      "outputs": []
    },
    {
      "cell_type": "markdown",
      "source": [
        "**import another library packages**"
      ],
      "metadata": {
        "id": "I6hO6aUsE6Iv"
      }
    },
    {
      "cell_type": "code",
      "source": [
        "from keras.layers import Convolution1D, ZeroPadding1D, MaxPooling1D, BatchNormalization, Activation, Dropout, Flatten, Dense\n",
        "from keras.regularizers import l2\n",
        "from keras.layers import Input\n",
        "from keras.layers.merge import concatenate\n",
        "from keras.layers import Input\n",
        "from keras.layers.merge import concatenate\n",
        "from keras.utils.vis_utils import plot_model"
      ],
      "metadata": {
        "id": "i4p1eXuNE6eX"
      },
      "execution_count": null,
      "outputs": []
    },
    {
      "cell_type": "markdown",
      "source": [
        "# Deep Learning Algorithms"
      ],
      "metadata": {
        "id": "thhGtcUzRRzr"
      }
    },
    {
      "cell_type": "markdown",
      "source": [
        "##CNN Model with Residual Connection"
      ],
      "metadata": {
        "id": "AyME6RCnF-bP"
      }
    },
    {
      "cell_type": "code",
      "source": [
        "from keras.layers import Input\n",
        "from keras.layers.merge import concatenate\n",
        "from keras.utils.vis_utils import plot_model\n",
        "\n",
        "\n",
        "intput_shape=(70, 1) #x_train.shape[1]\n",
        "\n",
        "input_layer = Input(intput_shape)\n",
        "\n",
        "conv1 = Conv1D(1024, kernel_size=6,padding = 'same',activation='relu') (input_layer)\n",
        "bn1 = BatchNormalization() (conv1)\n",
        "pool1 = MaxPooling1D(pool_size=(2)) (bn1)\n",
        "\n",
        "conv2 = Conv1D(1024,kernel_size=6,padding = 'same', activation='relu') (pool1)\n",
        "bn2 = BatchNormalization() (conv2) \n",
        "pool2 = MaxPooling1D(pool_size=(2)) (bn2)\n",
        "\n",
        "\n",
        "conv3 = Conv1D(1024,kernel_size=6,padding = 'same', activation='relu') (pool2)\n",
        "bn3 = BatchNormalization() (conv3)\n",
        "pool3 = MaxPooling1D(pool_size=(2)) (bn3)\n",
        "\n",
        "connect1 = concatenate([pool1, pool2, pool3], axis=1)\n",
        "\n",
        "conv4 = Conv1D(128,kernel_size=6,padding = 'same', activation='relu') (connect1)\n",
        "bn4 = BatchNormalization() (conv4)\n",
        "pool4 = MaxPooling1D(pool_size=(2)) (bn4)\n",
        "\n",
        "flat = Flatten() (pool4)\n",
        "\n",
        "dense1 = Dense(1024, activation='relu') (flat)\n",
        "drop1 = Dropout(0.2) (dense1)\n",
        "\n",
        "dense2 = Dense(256, activation='relu') (drop1)\n",
        "drop2 = Dropout(0.2) (dense2)\n",
        "\n",
        "dense3 = Dense(64, activation='relu') (drop2)\n",
        "drop3 = Dropout(0.2) (dense3)\n",
        "\n",
        "output_layer = Dense(2, activation='softmax') (drop3) #num_classes\n",
        "\n",
        "model = Model(input_layer, output_layer)\n",
        "model.summary()\n",
        "plot_model(model, to_file='model_plot.png', show_shapes=True, show_layer_names=True)"
      ],
      "metadata": {
        "colab": {
          "base_uri": "https://localhost:8080/",
          "height": 1000
        },
        "outputId": "0a364ce3-0016-4e2d-9b5a-4cede61071c9",
        "id": "AclohGXpiIhS"
      },
      "execution_count": null,
      "outputs": [
        {
          "output_type": "stream",
          "name": "stdout",
          "text": [
            "Model: \"model\"\n",
            "__________________________________________________________________________________________________\n",
            " Layer (type)                   Output Shape         Param #     Connected to                     \n",
            "==================================================================================================\n",
            " input_1 (InputLayer)           [(None, 70, 1)]      0           []                               \n",
            "                                                                                                  \n",
            " conv1d (Conv1D)                (None, 70, 1024)     7168        ['input_1[0][0]']                \n",
            "                                                                                                  \n",
            " batch_normalization (BatchNorm  (None, 70, 1024)    4096        ['conv1d[0][0]']                 \n",
            " alization)                                                                                       \n",
            "                                                                                                  \n",
            " max_pooling1d (MaxPooling1D)   (None, 35, 1024)     0           ['batch_normalization[0][0]']    \n",
            "                                                                                                  \n",
            " conv1d_1 (Conv1D)              (None, 35, 1024)     6292480     ['max_pooling1d[0][0]']          \n",
            "                                                                                                  \n",
            " batch_normalization_1 (BatchNo  (None, 35, 1024)    4096        ['conv1d_1[0][0]']               \n",
            " rmalization)                                                                                     \n",
            "                                                                                                  \n",
            " max_pooling1d_1 (MaxPooling1D)  (None, 17, 1024)    0           ['batch_normalization_1[0][0]']  \n",
            "                                                                                                  \n",
            " conv1d_2 (Conv1D)              (None, 17, 1024)     6292480     ['max_pooling1d_1[0][0]']        \n",
            "                                                                                                  \n",
            " batch_normalization_2 (BatchNo  (None, 17, 1024)    4096        ['conv1d_2[0][0]']               \n",
            " rmalization)                                                                                     \n",
            "                                                                                                  \n",
            " max_pooling1d_2 (MaxPooling1D)  (None, 8, 1024)     0           ['batch_normalization_2[0][0]']  \n",
            "                                                                                                  \n",
            " concatenate (Concatenate)      (None, 60, 1024)     0           ['max_pooling1d[0][0]',          \n",
            "                                                                  'max_pooling1d_1[0][0]',        \n",
            "                                                                  'max_pooling1d_2[0][0]']        \n",
            "                                                                                                  \n",
            " conv1d_3 (Conv1D)              (None, 60, 128)      786560      ['concatenate[0][0]']            \n",
            "                                                                                                  \n",
            " batch_normalization_3 (BatchNo  (None, 60, 128)     512         ['conv1d_3[0][0]']               \n",
            " rmalization)                                                                                     \n",
            "                                                                                                  \n",
            " max_pooling1d_3 (MaxPooling1D)  (None, 30, 128)     0           ['batch_normalization_3[0][0]']  \n",
            "                                                                                                  \n",
            " flatten (Flatten)              (None, 3840)         0           ['max_pooling1d_3[0][0]']        \n",
            "                                                                                                  \n",
            " dense (Dense)                  (None, 1024)         3933184     ['flatten[0][0]']                \n",
            "                                                                                                  \n",
            " dropout (Dropout)              (None, 1024)         0           ['dense[0][0]']                  \n",
            "                                                                                                  \n",
            " dense_1 (Dense)                (None, 256)          262400      ['dropout[0][0]']                \n",
            "                                                                                                  \n",
            " dropout_1 (Dropout)            (None, 256)          0           ['dense_1[0][0]']                \n",
            "                                                                                                  \n",
            " dense_2 (Dense)                (None, 64)           16448       ['dropout_1[0][0]']              \n",
            "                                                                                                  \n",
            " dropout_2 (Dropout)            (None, 64)           0           ['dense_2[0][0]']                \n",
            "                                                                                                  \n",
            " dense_3 (Dense)                (None, 2)            130         ['dropout_2[0][0]']              \n",
            "                                                                                                  \n",
            "==================================================================================================\n",
            "Total params: 17,603,650\n",
            "Trainable params: 17,597,250\n",
            "Non-trainable params: 6,400\n",
            "__________________________________________________________________________________________________\n"
          ]
        },
        {
          "output_type": "execute_result",
          "data": {
            "text/plain": [
              "<IPython.core.display.Image object>"
            ],
            "image/png": "[encoded data removed]"
          },
          "metadata": {},
          "execution_count": 23
        }
      ]
    },
    {
      "cell_type": "markdown",
      "source": [
        "**Compiling the model**"
      ],
      "metadata": {
        "id": "Ih5KxmIIxsUh"
      }
    },
    {
      "cell_type": "code",
      "source": [
        "model.compile(loss=keras.losses.categorical_crossentropy, \n",
        "              optimizer='adam',\n",
        "              metrics=['accuracy'])"
      ],
      "metadata": {
        "id": "zBtYqOvGGOfV"
      },
      "execution_count": null,
      "outputs": []
    },
    {
      "cell_type": "markdown",
      "source": [
        "**Automatic save \n",
        "(We have saved all the details of every epoch in google drive so that we can use this when we need.)**\n"
      ],
      "metadata": {
        "id": "ttoQN3bBGoTT"
      }
    },
    {
      "cell_type": "code",
      "source": [
        "# check points and early stopping\n",
        "from keras.callbacks import ModelCheckpoint,EarlyStopping\n",
        "\n",
        "model_name = \"\"\n",
        "filepath=\"/content/drive/Shareddrives/DEAP EEG/Models Saved/Valence/CNN_algorithm_model2/\"  + model_name + \"weights-improvement-{epoch:02d}-{accuracy:.4f}.hdf5\"\n",
        "print(filepath)\n",
        "checkpoint = ModelCheckpoint(filepath, monitor='accuracy', verbose=1, save_best_only=True, mode='max')\n",
        "es = EarlyStopping(monitor='accuracy', mode='max', verbose=1, patience=50)\n",
        "callbacks_list = [es, checkpoint]"
      ],
      "metadata": {
        "colab": {
          "base_uri": "https://localhost:8080/"
        },
        "outputId": "8fdd76f9-9732-44ca-cbbc-d012f2103082",
        "id": "XR0N9xPxemmM"
      },
      "execution_count": null,
      "outputs": [
        {
          "output_type": "stream",
          "name": "stdout",
          "text": [
            "/content/drive/Shareddrives/DEAP EEG/Models Saved/Valence/CNN_algorithm_model2/weights-improvement-{epoch:02d}-{accuracy:.4f}.hdf5\n"
          ]
        }
      ]
    },
    {
      "cell_type": "markdown",
      "source": [
        "**Fit the model**\n"
      ],
      "metadata": {
        "id": "Mduy9w8SHG3h"
      }
    },
    {
      "cell_type": "code",
      "source": [
        "H = model.fit(x_train, y_train,\n",
        "          batch_size=100,\n",
        "          epochs=100,\n",
        "          verbose=1,\n",
        "          callbacks= callbacks_list)"
      ],
      "metadata": {
        "colab": {
          "base_uri": "https://localhost:8080/"
        },
        "outputId": "03eb8545-f4c0-4ee3-e6b8-3b5eab1ef5fa",
        "id": "PRjUH-aBeFBv"
      },
      "execution_count": null,
      "outputs": [
        {
          "output_type": "stream",
          "name": "stdout",
          "text": [
            "Epoch 1/100\n",
            "4685/4685 [==============================] - ETA: 0s - loss: 0.6147 - accuracy: 0.6477\n",
            "Epoch 1: accuracy improved from -inf to 0.64768, saving model to /content/drive/Shareddrives/DEAP EEG/Models Saved/Valence/CNN_algorithm_model2/weights-improvement-01-0.6477.hdf5\n",
            "4685/4685 [==============================] - 425s 88ms/step - loss: 0.6147 - accuracy: 0.6477\n",
            "Epoch 2/100\n",
            "4685/4685 [==============================] - ETA: 0s - loss: 0.5217 - accuracy: 0.7252\n",
            "Epoch 2: accuracy improved from 0.64768 to 0.72517, saving model to /content/drive/Shareddrives/DEAP EEG/Models Saved/Valence/CNN_algorithm_model2/weights-improvement-02-0.7252.hdf5\n",
            "4685/4685 [==============================] - 414s 88ms/step - loss: 0.5217 - accuracy: 0.7252\n",
            "Epoch 3/100\n",
            "4685/4685 [==============================] - ETA: 0s - loss: 0.4230 - accuracy: 0.7899\n",
            "Epoch 3: accuracy improved from 0.72517 to 0.78992, saving model to /content/drive/Shareddrives/DEAP EEG/Models Saved/Valence/CNN_algorithm_model2/weights-improvement-03-0.7899.hdf5\n",
            "4685/4685 [==============================] - 413s 88ms/step - loss: 0.4230 - accuracy: 0.7899\n",
            "Epoch 4/100\n",
            "4685/4685 [==============================] - ETA: 0s - loss: 0.3411 - accuracy: 0.8373\n",
            "Epoch 4: accuracy improved from 0.78992 to 0.83727, saving model to /content/drive/Shareddrives/DEAP EEG/Models Saved/Valence/CNN_algorithm_model2/weights-improvement-04-0.8373.hdf5\n",
            "4685/4685 [==============================] - 413s 88ms/step - loss: 0.3411 - accuracy: 0.8373\n",
            "Epoch 5/100\n",
            "4685/4685 [==============================] - ETA: 0s - loss: 0.2823 - accuracy: 0.8682\n",
            "Epoch 5: accuracy improved from 0.83727 to 0.86817, saving model to /content/drive/Shareddrives/DEAP EEG/Models Saved/Valence/CNN_algorithm_model2/weights-improvement-05-0.8682.hdf5\n",
            "4685/4685 [==============================] - 413s 88ms/step - loss: 0.2823 - accuracy: 0.8682\n",
            "Epoch 6/100\n",
            "4685/4685 [==============================] - ETA: 0s - loss: 0.2403 - accuracy: 0.8898\n",
            "Epoch 6: accuracy improved from 0.86817 to 0.88979, saving model to /content/drive/Shareddrives/DEAP EEG/Models Saved/Valence/CNN_algorithm_model2/weights-improvement-06-0.8898.hdf5\n",
            "4685/4685 [==============================] - 412s 88ms/step - loss: 0.2403 - accuracy: 0.8898\n",
            "Epoch 7/100\n",
            "4685/4685 [==============================] - ETA: 0s - loss: 0.2082 - accuracy: 0.9060\n",
            "Epoch 7: accuracy improved from 0.88979 to 0.90598, saving model to /content/drive/Shareddrives/DEAP EEG/Models Saved/Valence/CNN_algorithm_model2/weights-improvement-07-0.9060.hdf5\n",
            "4685/4685 [==============================] - 413s 88ms/step - loss: 0.2082 - accuracy: 0.9060\n",
            "Epoch 8/100\n",
            "4685/4685 [==============================] - ETA: 0s - loss: 0.1852 - accuracy: 0.9167\n",
            "Epoch 8: accuracy improved from 0.90598 to 0.91671, saving model to /content/drive/Shareddrives/DEAP EEG/Models Saved/Valence/CNN_algorithm_model2/weights-improvement-08-0.9167.hdf5\n",
            "4685/4685 [==============================] - 413s 88ms/step - loss: 0.1852 - accuracy: 0.9167\n",
            "Epoch 9/100\n",
            "4685/4685 [==============================] - ETA: 0s - loss: 0.1668 - accuracy: 0.9259\n",
            "Epoch 9: accuracy improved from 0.91671 to 0.92587, saving model to /content/drive/Shareddrives/DEAP EEG/Models Saved/Valence/CNN_algorithm_model2/weights-improvement-09-0.9259.hdf5\n",
            "4685/4685 [==============================] - 412s 88ms/step - loss: 0.1668 - accuracy: 0.9259\n",
            "Epoch 10/100\n",
            "4685/4685 [==============================] - ETA: 0s - loss: 0.1519 - accuracy: 0.9330\n",
            "Epoch 10: accuracy improved from 0.92587 to 0.93305, saving model to /content/drive/Shareddrives/DEAP EEG/Models Saved/Valence/CNN_algorithm_model2/weights-improvement-10-0.9330.hdf5\n",
            "4685/4685 [==============================] - 413s 88ms/step - loss: 0.1519 - accuracy: 0.9330\n",
            "Epoch 11/100\n",
            "4685/4685 [==============================] - ETA: 0s - loss: 0.1390 - accuracy: 0.9389\n",
            "Epoch 11: accuracy improved from 0.93305 to 0.93893, saving model to /content/drive/Shareddrives/DEAP EEG/Models Saved/Valence/CNN_algorithm_model2/weights-improvement-11-0.9389.hdf5\n",
            "4685/4685 [==============================] - 413s 88ms/step - loss: 0.1390 - accuracy: 0.9389\n",
            "Epoch 12/100\n",
            "4685/4685 [==============================] - ETA: 0s - loss: 0.1291 - accuracy: 0.9438\n",
            "Epoch 12: accuracy improved from 0.93893 to 0.94379, saving model to /content/drive/Shareddrives/DEAP EEG/Models Saved/Valence/CNN_algorithm_model2/weights-improvement-12-0.9438.hdf5\n",
            "4685/4685 [==============================] - 413s 88ms/step - loss: 0.1291 - accuracy: 0.9438\n",
            "Epoch 13/100\n",
            "4685/4685 [==============================] - ETA: 0s - loss: 0.1202 - accuracy: 0.9481\n",
            "Epoch 13: accuracy improved from 0.94379 to 0.94809, saving model to /content/drive/Shareddrives/DEAP EEG/Models Saved/Valence/CNN_algorithm_model2/weights-improvement-13-0.9481.hdf5\n",
            "4685/4685 [==============================] - 413s 88ms/step - loss: 0.1202 - accuracy: 0.9481\n",
            "Epoch 14/100\n",
            "4685/4685 [==============================] - ETA: 0s - loss: 0.1132 - accuracy: 0.9514\n",
            "Epoch 14: accuracy improved from 0.94809 to 0.95141, saving model to /content/drive/Shareddrives/DEAP EEG/Models Saved/Valence/CNN_algorithm_model2/weights-improvement-14-0.9514.hdf5\n",
            "4685/4685 [==============================] - 413s 88ms/step - loss: 0.1132 - accuracy: 0.9514\n",
            "Epoch 15/100\n",
            "4685/4685 [==============================] - ETA: 0s - loss: 0.1060 - accuracy: 0.9548\n",
            "Epoch 15: accuracy improved from 0.95141 to 0.95482, saving model to /content/drive/Shareddrives/DEAP EEG/Models Saved/Valence/CNN_algorithm_model2/weights-improvement-15-0.9548.hdf5\n",
            "4685/4685 [==============================] - 413s 88ms/step - loss: 0.1060 - accuracy: 0.9548\n",
            "Epoch 16/100\n",
            "4685/4685 [==============================] - ETA: 0s - loss: 0.1004 - accuracy: 0.9572\n",
            "Epoch 16: accuracy improved from 0.95482 to 0.95719, saving model to /content/drive/Shareddrives/DEAP EEG/Models Saved/Valence/CNN_algorithm_model2/weights-improvement-16-0.9572.hdf5\n",
            "4685/4685 [==============================] - 413s 88ms/step - loss: 0.1004 - accuracy: 0.9572\n",
            "Epoch 17/100\n",
            "4685/4685 [==============================] - ETA: 0s - loss: 0.0955 - accuracy: 0.9596\n",
            "Epoch 17: accuracy improved from 0.95719 to 0.95960, saving model to /content/drive/Shareddrives/DEAP EEG/Models Saved/Valence/CNN_algorithm_model2/weights-improvement-17-0.9596.hdf5\n",
            "4685/4685 [==============================] - 413s 88ms/step - loss: 0.0955 - accuracy: 0.9596\n",
            "Epoch 18/100\n",
            "4685/4685 [==============================] - ETA: 0s - loss: 0.0912 - accuracy: 0.9618\n",
            "Epoch 18: accuracy improved from 0.95960 to 0.96182, saving model to /content/drive/Shareddrives/DEAP EEG/Models Saved/Valence/CNN_algorithm_model2/weights-improvement-18-0.9618.hdf5\n",
            "4685/4685 [==============================] - 413s 88ms/step - loss: 0.0912 - accuracy: 0.9618\n",
            "Epoch 19/100\n",
            "4685/4685 [==============================] - ETA: 0s - loss: 0.0870 - accuracy: 0.9642\n",
            "Epoch 19: accuracy improved from 0.96182 to 0.96422, saving model to /content/drive/Shareddrives/DEAP EEG/Models Saved/Valence/CNN_algorithm_model2/weights-improvement-19-0.9642.hdf5\n",
            "4685/4685 [==============================] - 413s 88ms/step - loss: 0.0870 - accuracy: 0.9642\n",
            "Epoch 20/100\n",
            "4685/4685 [==============================] - ETA: 0s - loss: 0.0834 - accuracy: 0.9656\n",
            "Epoch 20: accuracy improved from 0.96422 to 0.96561, saving model to /content/drive/Shareddrives/DEAP EEG/Models Saved/Valence/CNN_algorithm_model2/weights-improvement-20-0.9656.hdf5\n",
            "4685/4685 [==============================] - 413s 88ms/step - loss: 0.0834 - accuracy: 0.9656\n",
            "Epoch 21/100\n",
            "4685/4685 [==============================] - ETA: 0s - loss: 0.0797 - accuracy: 0.9673\n",
            "Epoch 21: accuracy improved from 0.96561 to 0.96733, saving model to /content/drive/Shareddrives/DEAP EEG/Models Saved/Valence/CNN_algorithm_model2/weights-improvement-21-0.9673.hdf5\n",
            "4685/4685 [==============================] - 413s 88ms/step - loss: 0.0797 - accuracy: 0.9673\n",
            "Epoch 22/100\n",
            "4685/4685 [==============================] - ETA: 0s - loss: 0.0773 - accuracy: 0.9683\n",
            "Epoch 22: accuracy improved from 0.96733 to 0.96830, saving model to /content/drive/Shareddrives/DEAP EEG/Models Saved/Valence/CNN_algorithm_model2/weights-improvement-22-0.9683.hdf5\n",
            "4685/4685 [==============================] - 413s 88ms/step - loss: 0.0773 - accuracy: 0.9683\n",
            "Epoch 23/100\n",
            "4685/4685 [==============================] - ETA: 0s - loss: 0.0741 - accuracy: 0.9701\n",
            "Epoch 23: accuracy improved from 0.96830 to 0.97006, saving model to /content/drive/Shareddrives/DEAP EEG/Models Saved/Valence/CNN_algorithm_model2/weights-improvement-23-0.9701.hdf5\n",
            "4685/4685 [==============================] - 413s 88ms/step - loss: 0.0741 - accuracy: 0.9701\n",
            "Epoch 24/100\n",
            "4685/4685 [==============================] - ETA: 0s - loss: 0.0717 - accuracy: 0.9708\n",
            "Epoch 24: accuracy improved from 0.97006 to 0.97081, saving model to /content/drive/Shareddrives/DEAP EEG/Models Saved/Valence/CNN_algorithm_model2/weights-improvement-24-0.9708.hdf5\n",
            "4685/4685 [==============================] - 413s 88ms/step - loss: 0.0717 - accuracy: 0.9708\n",
            "Epoch 25/100\n",
            "4685/4685 [==============================] - ETA: 0s - loss: 0.0690 - accuracy: 0.9724\n",
            "Epoch 25: accuracy improved from 0.97081 to 0.97241, saving model to /content/drive/Shareddrives/DEAP EEG/Models Saved/Valence/CNN_algorithm_model2/weights-improvement-25-0.9724.hdf5\n",
            "4685/4685 [==============================] - 413s 88ms/step - loss: 0.0690 - accuracy: 0.9724\n",
            "Epoch 26/100\n",
            "4685/4685 [==============================] - ETA: 0s - loss: 0.0662 - accuracy: 0.9733\n",
            "Epoch 26: accuracy improved from 0.97241 to 0.97326, saving model to /content/drive/Shareddrives/DEAP EEG/Models Saved/Valence/CNN_algorithm_model2/weights-improvement-26-0.9733.hdf5\n",
            "4685/4685 [==============================] - 413s 88ms/step - loss: 0.0662 - accuracy: 0.9733\n",
            "Epoch 27/100\n",
            "4685/4685 [==============================] - ETA: 0s - loss: 0.0651 - accuracy: 0.9744\n",
            "Epoch 27: accuracy improved from 0.97326 to 0.97439, saving model to /content/drive/Shareddrives/DEAP EEG/Models Saved/Valence/CNN_algorithm_model2/weights-improvement-27-0.9744.hdf5\n",
            "4685/4685 [==============================] - 414s 88ms/step - loss: 0.0651 - accuracy: 0.9744\n",
            "Epoch 28/100\n",
            "4685/4685 [==============================] - ETA: 0s - loss: 0.0627 - accuracy: 0.9754\n",
            "Epoch 28: accuracy improved from 0.97439 to 0.97543, saving model to /content/drive/Shareddrives/DEAP EEG/Models Saved/Valence/CNN_algorithm_model2/weights-improvement-28-0.9754.hdf5\n",
            "4685/4685 [==============================] - 414s 88ms/step - loss: 0.0627 - accuracy: 0.9754\n",
            "Epoch 29/100\n",
            "4685/4685 [==============================] - ETA: 0s - loss: 0.0613 - accuracy: 0.9756\n",
            "Epoch 29: accuracy improved from 0.97543 to 0.97557, saving model to /content/drive/Shareddrives/DEAP EEG/Models Saved/Valence/CNN_algorithm_model2/weights-improvement-29-0.9756.hdf5\n",
            "4685/4685 [==============================] - 413s 88ms/step - loss: 0.0613 - accuracy: 0.9756\n",
            "Epoch 30/100\n",
            "4685/4685 [==============================] - ETA: 0s - loss: 0.0584 - accuracy: 0.9771\n",
            "Epoch 30: accuracy improved from 0.97557 to 0.97713, saving model to /content/drive/Shareddrives/DEAP EEG/Models Saved/Valence/CNN_algorithm_model2/weights-improvement-30-0.9771.hdf5\n",
            "4685/4685 [==============================] - 413s 88ms/step - loss: 0.0584 - accuracy: 0.9771\n",
            "Epoch 31/100\n",
            "4685/4685 [==============================] - ETA: 0s - loss: 0.0580 - accuracy: 0.9775\n",
            "Epoch 31: accuracy improved from 0.97713 to 0.97748, saving model to /content/drive/Shareddrives/DEAP EEG/Models Saved/Valence/CNN_algorithm_model2/weights-improvement-31-0.9775.hdf5\n",
            "4685/4685 [==============================] - 413s 88ms/step - loss: 0.0580 - accuracy: 0.9775\n",
            "Epoch 32/100\n",
            "4685/4685 [==============================] - ETA: 0s - loss: 0.0553 - accuracy: 0.9782\n",
            "Epoch 32: accuracy improved from 0.97748 to 0.97819, saving model to /content/drive/Shareddrives/DEAP EEG/Models Saved/Valence/CNN_algorithm_model2/weights-improvement-32-0.9782.hdf5\n",
            "4685/4685 [==============================] - 414s 88ms/step - loss: 0.0553 - accuracy: 0.9782\n",
            "Epoch 33/100\n",
            "4685/4685 [==============================] - ETA: 0s - loss: 0.0545 - accuracy: 0.9788\n",
            "Epoch 33: accuracy improved from 0.97819 to 0.97878, saving model to /content/drive/Shareddrives/DEAP EEG/Models Saved/Valence/CNN_algorithm_model2/weights-improvement-33-0.9788.hdf5\n",
            "4685/4685 [==============================] - 414s 88ms/step - loss: 0.0545 - accuracy: 0.9788\n",
            "Epoch 34/100\n",
            "4685/4685 [==============================] - ETA: 0s - loss: 0.0530 - accuracy: 0.9798\n",
            "Epoch 34: accuracy improved from 0.97878 to 0.97976, saving model to /content/drive/Shareddrives/DEAP EEG/Models Saved/Valence/CNN_algorithm_model2/weights-improvement-34-0.9798.hdf5\n",
            "4685/4685 [==============================] - 414s 88ms/step - loss: 0.0530 - accuracy: 0.9798\n",
            "Epoch 35/100\n",
            "4685/4685 [==============================] - ETA: 0s - loss: 0.0522 - accuracy: 0.9802\n",
            "Epoch 35: accuracy improved from 0.97976 to 0.98021, saving model to /content/drive/Shareddrives/DEAP EEG/Models Saved/Valence/CNN_algorithm_model2/weights-improvement-35-0.9802.hdf5\n",
            "4685/4685 [==============================] - 414s 88ms/step - loss: 0.0522 - accuracy: 0.9802\n",
            "Epoch 36/100\n",
            "4685/4685 [==============================] - ETA: 0s - loss: 0.0504 - accuracy: 0.9806\n",
            "Epoch 36: accuracy improved from 0.98021 to 0.98061, saving model to /content/drive/Shareddrives/DEAP EEG/Models Saved/Valence/CNN_algorithm_model2/weights-improvement-36-0.9806.hdf5\n",
            "4685/4685 [==============================] - 413s 88ms/step - loss: 0.0504 - accuracy: 0.9806\n",
            "Epoch 37/100\n",
            "4685/4685 [==============================] - ETA: 0s - loss: 0.0493 - accuracy: 0.9813\n",
            "Epoch 37: accuracy improved from 0.98061 to 0.98129, saving model to /content/drive/Shareddrives/DEAP EEG/Models Saved/Valence/CNN_algorithm_model2/weights-improvement-37-0.9813.hdf5\n",
            "4685/4685 [==============================] - 414s 88ms/step - loss: 0.0493 - accuracy: 0.9813\n",
            "Epoch 38/100\n",
            "4685/4685 [==============================] - ETA: 0s - loss: 0.0485 - accuracy: 0.9815\n",
            "Epoch 38: accuracy improved from 0.98129 to 0.98145, saving model to /content/drive/Shareddrives/DEAP EEG/Models Saved/Valence/CNN_algorithm_model2/weights-improvement-38-0.9815.hdf5\n",
            "4685/4685 [==============================] - 414s 88ms/step - loss: 0.0485 - accuracy: 0.9815\n",
            "Epoch 39/100\n",
            "4685/4685 [==============================] - ETA: 0s - loss: 0.0485 - accuracy: 0.9820\n",
            "Epoch 39: accuracy improved from 0.98145 to 0.98195, saving model to /content/drive/Shareddrives/DEAP EEG/Models Saved/Valence/CNN_algorithm_model2/weights-improvement-39-0.9820.hdf5\n",
            "4685/4685 [==============================] - 414s 88ms/step - loss: 0.0485 - accuracy: 0.9820\n",
            "Epoch 40/100\n",
            "4685/4685 [==============================] - ETA: 0s - loss: 0.0460 - accuracy: 0.9827\n",
            "Epoch 40: accuracy improved from 0.98195 to 0.98271, saving model to /content/drive/Shareddrives/DEAP EEG/Models Saved/Valence/CNN_algorithm_model2/weights-improvement-40-0.9827.hdf5\n",
            "4685/4685 [==============================] - 414s 88ms/step - loss: 0.0460 - accuracy: 0.9827\n",
            "Epoch 41/100\n",
            "4685/4685 [==============================] - ETA: 0s - loss: 0.0460 - accuracy: 0.9827\n",
            "Epoch 41: accuracy improved from 0.98271 to 0.98273, saving model to /content/drive/Shareddrives/DEAP EEG/Models Saved/Valence/CNN_algorithm_model2/weights-improvement-41-0.9827.hdf5\n",
            "4685/4685 [==============================] - 413s 88ms/step - loss: 0.0460 - accuracy: 0.9827\n",
            "Epoch 42/100\n",
            "4685/4685 [==============================] - ETA: 0s - loss: 0.0454 - accuracy: 0.9831\n",
            "Epoch 42: accuracy improved from 0.98273 to 0.98312, saving model to /content/drive/Shareddrives/DEAP EEG/Models Saved/Valence/CNN_algorithm_model2/weights-improvement-42-0.9831.hdf5\n",
            "4685/4685 [==============================] - 414s 88ms/step - loss: 0.0454 - accuracy: 0.9831\n",
            "Epoch 43/100\n",
            "4685/4685 [==============================] - ETA: 0s - loss: 0.0442 - accuracy: 0.9833\n",
            "Epoch 43: accuracy improved from 0.98312 to 0.98333, saving model to /content/drive/Shareddrives/DEAP EEG/Models Saved/Valence/CNN_algorithm_model2/weights-improvement-43-0.9833.hdf5\n",
            "4685/4685 [==============================] - 414s 88ms/step - loss: 0.0442 - accuracy: 0.9833\n",
            "Epoch 44/100\n",
            "4685/4685 [==============================] - ETA: 0s - loss: 0.0436 - accuracy: 0.9840\n",
            "Epoch 44: accuracy improved from 0.98333 to 0.98398, saving model to /content/drive/Shareddrives/DEAP EEG/Models Saved/Valence/CNN_algorithm_model2/weights-improvement-44-0.9840.hdf5\n",
            "4685/4685 [==============================] - 414s 88ms/step - loss: 0.0436 - accuracy: 0.9840\n",
            "Epoch 45/100\n",
            "4685/4685 [==============================] - ETA: 0s - loss: 0.0422 - accuracy: 0.9843\n",
            "Epoch 45: accuracy improved from 0.98398 to 0.98431, saving model to /content/drive/Shareddrives/DEAP EEG/Models Saved/Valence/CNN_algorithm_model2/weights-improvement-45-0.9843.hdf5\n",
            "4685/4685 [==============================] - 414s 88ms/step - loss: 0.0422 - accuracy: 0.9843\n",
            "Epoch 46/100\n",
            "4685/4685 [==============================] - ETA: 0s - loss: 0.0405 - accuracy: 0.9849\n",
            "Epoch 46: accuracy improved from 0.98431 to 0.98488, saving model to /content/drive/Shareddrives/DEAP EEG/Models Saved/Valence/CNN_algorithm_model2/weights-improvement-46-0.9849.hdf5\n",
            "4685/4685 [==============================] - 414s 88ms/step - loss: 0.0405 - accuracy: 0.9849\n",
            "Epoch 47/100\n",
            "4685/4685 [==============================] - ETA: 0s - loss: 0.0410 - accuracy: 0.9848\n",
            "Epoch 47: accuracy did not improve from 0.98488\n",
            "4685/4685 [==============================] - 413s 88ms/step - loss: 0.0410 - accuracy: 0.9848\n",
            "Epoch 48/100\n",
            "4685/4685 [==============================] - ETA: 0s - loss: 0.0405 - accuracy: 0.9853\n",
            "Epoch 48: accuracy improved from 0.98488 to 0.98525, saving model to /content/drive/Shareddrives/DEAP EEG/Models Saved/Valence/CNN_algorithm_model2/weights-improvement-48-0.9853.hdf5\n",
            "4685/4685 [==============================] - 414s 88ms/step - loss: 0.0405 - accuracy: 0.9853\n",
            "Epoch 49/100\n",
            "4685/4685 [==============================] - ETA: 0s - loss: 0.0399 - accuracy: 0.9856\n",
            "Epoch 49: accuracy improved from 0.98525 to 0.98563, saving model to /content/drive/Shareddrives/DEAP EEG/Models Saved/Valence/CNN_algorithm_model2/weights-improvement-49-0.9856.hdf5\n",
            "4685/4685 [==============================] - 414s 88ms/step - loss: 0.0399 - accuracy: 0.9856\n",
            "Epoch 50/100\n",
            "4685/4685 [==============================] - ETA: 0s - loss: 0.0395 - accuracy: 0.9855\n",
            "Epoch 50: accuracy did not improve from 0.98563\n",
            "4685/4685 [==============================] - 413s 88ms/step - loss: 0.0395 - accuracy: 0.9855\n",
            "Epoch 51/100\n",
            "4685/4685 [==============================] - ETA: 0s - loss: 0.0392 - accuracy: 0.9854\n",
            "Epoch 51: accuracy did not improve from 0.98563\n",
            "4685/4685 [==============================] - 414s 88ms/step - loss: 0.0392 - accuracy: 0.9854\n",
            "Epoch 52/100\n",
            "4685/4685 [==============================] - ETA: 0s - loss: 0.0377 - accuracy: 0.9862\n",
            "Epoch 52: accuracy improved from 0.98563 to 0.98617, saving model to /content/drive/Shareddrives/DEAP EEG/Models Saved/Valence/CNN_algorithm_model2/weights-improvement-52-0.9862.hdf5\n",
            "4685/4685 [==============================] - 414s 88ms/step - loss: 0.0377 - accuracy: 0.9862\n",
            "Epoch 53/100\n",
            "4685/4685 [==============================] - ETA: 0s - loss: 0.0367 - accuracy: 0.9866\n",
            "Epoch 53: accuracy improved from 0.98617 to 0.98661, saving model to /content/drive/Shareddrives/DEAP EEG/Models Saved/Valence/CNN_algorithm_model2/weights-improvement-53-0.9866.hdf5\n",
            "4685/4685 [==============================] - 414s 88ms/step - loss: 0.0367 - accuracy: 0.9866\n",
            "Epoch 54/100\n",
            "4685/4685 [==============================] - ETA: 0s - loss: 0.0372 - accuracy: 0.9866\n",
            "Epoch 54: accuracy did not improve from 0.98661\n",
            "4685/4685 [==============================] - 414s 88ms/step - loss: 0.0372 - accuracy: 0.9866\n",
            "Epoch 55/100\n",
            "4685/4685 [==============================] - ETA: 0s - loss: 0.0364 - accuracy: 0.9867\n",
            "Epoch 55: accuracy improved from 0.98661 to 0.98670, saving model to /content/drive/Shareddrives/DEAP EEG/Models Saved/Valence/CNN_algorithm_model2/weights-improvement-55-0.9867.hdf5\n",
            "4685/4685 [==============================] - 414s 88ms/step - loss: 0.0364 - accuracy: 0.9867\n",
            "Epoch 56/100\n",
            "4685/4685 [==============================] - ETA: 0s - loss: 0.0359 - accuracy: 0.9870\n",
            "Epoch 56: accuracy improved from 0.98670 to 0.98697, saving model to /content/drive/Shareddrives/DEAP EEG/Models Saved/Valence/CNN_algorithm_model2/weights-improvement-56-0.9870.hdf5\n",
            "4685/4685 [==============================] - 414s 88ms/step - loss: 0.0359 - accuracy: 0.9870\n",
            "Epoch 57/100\n",
            "4685/4685 [==============================] - ETA: 0s - loss: 0.0356 - accuracy: 0.9872\n",
            "Epoch 57: accuracy improved from 0.98697 to 0.98716, saving model to /content/drive/Shareddrives/DEAP EEG/Models Saved/Valence/CNN_algorithm_model2/weights-improvement-57-0.9872.hdf5\n",
            "4685/4685 [==============================] - 414s 88ms/step - loss: 0.0356 - accuracy: 0.9872\n",
            "Epoch 58/100\n",
            "4685/4685 [==============================] - ETA: 0s - loss: 0.0347 - accuracy: 0.9874\n",
            "Epoch 58: accuracy improved from 0.98716 to 0.98737, saving model to /content/drive/Shareddrives/DEAP EEG/Models Saved/Valence/CNN_algorithm_model2/weights-improvement-58-0.9874.hdf5\n",
            "4685/4685 [==============================] - 414s 88ms/step - loss: 0.0347 - accuracy: 0.9874\n",
            "Epoch 59/100\n",
            "4685/4685 [==============================] - ETA: 0s - loss: 0.0345 - accuracy: 0.9876\n",
            "Epoch 59: accuracy improved from 0.98737 to 0.98762, saving model to /content/drive/Shareddrives/DEAP EEG/Models Saved/Valence/CNN_algorithm_model2/weights-improvement-59-0.9876.hdf5\n",
            "4685/4685 [==============================] - 415s 88ms/step - loss: 0.0345 - accuracy: 0.9876\n",
            "Epoch 60/100\n",
            "4685/4685 [==============================] - ETA: 0s - loss: 0.0343 - accuracy: 0.9879\n",
            "Epoch 60: accuracy improved from 0.98762 to 0.98793, saving model to /content/drive/Shareddrives/DEAP EEG/Models Saved/Valence/CNN_algorithm_model2/weights-improvement-60-0.9879.hdf5\n",
            "4685/4685 [==============================] - 415s 89ms/step - loss: 0.0343 - accuracy: 0.9879\n",
            "Epoch 61/100\n",
            "4685/4685 [==============================] - ETA: 0s - loss: 0.0344 - accuracy: 0.9879\n",
            "Epoch 61: accuracy improved from 0.98793 to 0.98794, saving model to /content/drive/Shareddrives/DEAP EEG/Models Saved/Valence/CNN_algorithm_model2/weights-improvement-61-0.9879.hdf5\n",
            "4685/4685 [==============================] - 414s 88ms/step - loss: 0.0344 - accuracy: 0.9879\n",
            "Epoch 62/100\n",
            "4685/4685 [==============================] - ETA: 0s - loss: 0.0339 - accuracy: 0.9879\n",
            "Epoch 62: accuracy improved from 0.98794 to 0.98795, saving model to /content/drive/Shareddrives/DEAP EEG/Models Saved/Valence/CNN_algorithm_model2/weights-improvement-62-0.9879.hdf5\n",
            "4685/4685 [==============================] - 415s 89ms/step - loss: 0.0339 - accuracy: 0.9879\n",
            "Epoch 63/100\n",
            "4685/4685 [==============================] - ETA: 0s - loss: 0.0322 - accuracy: 0.9885\n",
            "Epoch 63: accuracy improved from 0.98795 to 0.98854, saving model to /content/drive/Shareddrives/DEAP EEG/Models Saved/Valence/CNN_algorithm_model2/weights-improvement-63-0.9885.hdf5\n",
            "4685/4685 [==============================] - 415s 89ms/step - loss: 0.0322 - accuracy: 0.9885\n",
            "Epoch 64/100\n",
            "4685/4685 [==============================] - ETA: 0s - loss: 0.0330 - accuracy: 0.9883\n",
            "Epoch 64: accuracy did not improve from 0.98854\n",
            "4685/4685 [==============================] - 414s 88ms/step - loss: 0.0330 - accuracy: 0.9883\n",
            "Epoch 65/100\n",
            "4685/4685 [==============================] - ETA: 0s - loss: 0.0326 - accuracy: 0.9883\n",
            "Epoch 65: accuracy did not improve from 0.98854\n",
            "4685/4685 [==============================] - 414s 88ms/step - loss: 0.0326 - accuracy: 0.9883\n",
            "Epoch 66/100\n",
            "4685/4685 [==============================] - ETA: 0s - loss: 0.0342 - accuracy: 0.9884\n",
            "Epoch 66: accuracy did not improve from 0.98854\n",
            "4685/4685 [==============================] - 414s 88ms/step - loss: 0.0342 - accuracy: 0.9884\n",
            "Epoch 67/100\n",
            "4685/4685 [==============================] - ETA: 0s - loss: 0.0319 - accuracy: 0.9889\n",
            "Epoch 67: accuracy improved from 0.98854 to 0.98888, saving model to /content/drive/Shareddrives/DEAP EEG/Models Saved/Valence/CNN_algorithm_model2/weights-improvement-67-0.9889.hdf5\n",
            "4685/4685 [==============================] - 415s 89ms/step - loss: 0.0319 - accuracy: 0.9889\n",
            "Epoch 68/100\n",
            "4685/4685 [==============================] - ETA: 0s - loss: 0.0315 - accuracy: 0.9890\n",
            "Epoch 68: accuracy improved from 0.98888 to 0.98902, saving model to /content/drive/Shareddrives/DEAP EEG/Models Saved/Valence/CNN_algorithm_model2/weights-improvement-68-0.9890.hdf5\n",
            "4685/4685 [==============================] - 415s 88ms/step - loss: 0.0315 - accuracy: 0.9890\n",
            "Epoch 69/100\n",
            "4685/4685 [==============================] - ETA: 0s - loss: 0.0317 - accuracy: 0.9891\n",
            "Epoch 69: accuracy improved from 0.98902 to 0.98913, saving model to /content/drive/Shareddrives/DEAP EEG/Models Saved/Valence/CNN_algorithm_model2/weights-improvement-69-0.9891.hdf5\n",
            "4685/4685 [==============================] - 415s 89ms/step - loss: 0.0317 - accuracy: 0.9891\n",
            "Epoch 70/100\n",
            "4685/4685 [==============================] - ETA: 0s - loss: 0.0312 - accuracy: 0.9891\n",
            "Epoch 70: accuracy did not improve from 0.98913\n",
            "4685/4685 [==============================] - 414s 88ms/step - loss: 0.0312 - accuracy: 0.9891\n",
            "Epoch 71/100\n",
            "4685/4685 [==============================] - ETA: 0s - loss: 0.0318 - accuracy: 0.9891\n",
            "Epoch 71: accuracy did not improve from 0.98913\n",
            "4685/4685 [==============================] - 415s 88ms/step - loss: 0.0318 - accuracy: 0.9891\n",
            "Epoch 72/100\n",
            "4685/4685 [==============================] - ETA: 0s - loss: 0.0309 - accuracy: 0.9893\n",
            "Epoch 72: accuracy improved from 0.98913 to 0.98926, saving model to /content/drive/Shareddrives/DEAP EEG/Models Saved/Valence/CNN_algorithm_model2/weights-improvement-72-0.9893.hdf5\n",
            "4685/4685 [==============================] - 415s 88ms/step - loss: 0.0309 - accuracy: 0.9893\n",
            "Epoch 73/100\n",
            "4685/4685 [==============================] - ETA: 0s - loss: 0.0298 - accuracy: 0.9895\n",
            "Epoch 73: accuracy improved from 0.98926 to 0.98953, saving model to /content/drive/Shareddrives/DEAP EEG/Models Saved/Valence/CNN_algorithm_model2/weights-improvement-73-0.9895.hdf5\n",
            "4685/4685 [==============================] - 415s 89ms/step - loss: 0.0298 - accuracy: 0.9895\n",
            "Epoch 74/100\n",
            "4685/4685 [==============================] - ETA: 0s - loss: 0.0308 - accuracy: 0.9895\n",
            "Epoch 74: accuracy did not improve from 0.98953\n",
            "4685/4685 [==============================] - 414s 88ms/step - loss: 0.0308 - accuracy: 0.9895\n",
            "Epoch 75/100\n",
            "4685/4685 [==============================] - ETA: 0s - loss: 0.0301 - accuracy: 0.9896\n",
            "Epoch 75: accuracy improved from 0.98953 to 0.98963, saving model to /content/drive/Shareddrives/DEAP EEG/Models Saved/Valence/CNN_algorithm_model2/weights-improvement-75-0.9896.hdf5\n",
            "4685/4685 [==============================] - 416s 89ms/step - loss: 0.0301 - accuracy: 0.9896\n",
            "Epoch 76/100\n",
            "4685/4685 [==============================] - ETA: 0s - loss: 0.0298 - accuracy: 0.9897\n",
            "Epoch 76: accuracy improved from 0.98963 to 0.98975, saving model to /content/drive/Shareddrives/DEAP EEG/Models Saved/Valence/CNN_algorithm_model2/weights-improvement-76-0.9897.hdf5\n",
            "4685/4685 [==============================] - 415s 89ms/step - loss: 0.0298 - accuracy: 0.9897\n",
            "Epoch 77/100\n",
            "4685/4685 [==============================] - ETA: 0s - loss: 0.0286 - accuracy: 0.9901\n",
            "Epoch 77: accuracy improved from 0.98975 to 0.99007, saving model to /content/drive/Shareddrives/DEAP EEG/Models Saved/Valence/CNN_algorithm_model2/weights-improvement-77-0.9901.hdf5\n",
            "4685/4685 [==============================] - 415s 89ms/step - loss: 0.0286 - accuracy: 0.9901\n",
            "Epoch 78/100\n",
            "4685/4685 [==============================] - ETA: 0s - loss: 0.0288 - accuracy: 0.9900\n",
            "Epoch 78: accuracy did not improve from 0.99007\n",
            "4685/4685 [==============================] - 415s 89ms/step - loss: 0.0288 - accuracy: 0.9900\n",
            "Epoch 79/100\n",
            "4685/4685 [==============================] - ETA: 0s - loss: 0.0302 - accuracy: 0.9898\n",
            "Epoch 79: accuracy did not improve from 0.99007\n",
            "4685/4685 [==============================] - 414s 88ms/step - loss: 0.0302 - accuracy: 0.9898\n",
            "Epoch 80/100\n",
            "4685/4685 [==============================] - ETA: 0s - loss: 0.0286 - accuracy: 0.9901\n",
            "Epoch 80: accuracy improved from 0.99007 to 0.99011, saving model to /content/drive/Shareddrives/DEAP EEG/Models Saved/Valence/CNN_algorithm_model2/weights-improvement-80-0.9901.hdf5\n",
            "4685/4685 [==============================] - 415s 89ms/step - loss: 0.0286 - accuracy: 0.9901\n",
            "Epoch 81/100\n",
            "4685/4685 [==============================] - ETA: 0s - loss: 0.0276 - accuracy: 0.9904\n",
            "Epoch 81: accuracy improved from 0.99011 to 0.99043, saving model to /content/drive/Shareddrives/DEAP EEG/Models Saved/Valence/CNN_algorithm_model2/weights-improvement-81-0.9904.hdf5\n",
            "4685/4685 [==============================] - 415s 89ms/step - loss: 0.0276 - accuracy: 0.9904\n",
            "Epoch 82/100\n",
            "4685/4685 [==============================] - ETA: 0s - loss: 0.0286 - accuracy: 0.9902\n",
            "Epoch 82: accuracy did not improve from 0.99043\n",
            "4685/4685 [==============================] - 415s 88ms/step - loss: 0.0286 - accuracy: 0.9902\n",
            "Epoch 83/100\n",
            "4685/4685 [==============================] - ETA: 0s - loss: 0.0288 - accuracy: 0.9903\n",
            "Epoch 83: accuracy did not improve from 0.99043\n",
            "4685/4685 [==============================] - 414s 88ms/step - loss: 0.0288 - accuracy: 0.9903\n",
            "Epoch 84/100\n",
            "4685/4685 [==============================] - ETA: 0s - loss: 0.0280 - accuracy: 0.9907\n",
            "Epoch 84: accuracy improved from 0.99043 to 0.99065, saving model to /content/drive/Shareddrives/DEAP EEG/Models Saved/Valence/CNN_algorithm_model2/weights-improvement-84-0.9907.hdf5\n",
            "4685/4685 [==============================] - 415s 89ms/step - loss: 0.0280 - accuracy: 0.9907\n",
            "Epoch 85/100\n",
            "4685/4685 [==============================] - ETA: 0s - loss: 0.0277 - accuracy: 0.9905\n",
            "Epoch 85: accuracy did not improve from 0.99065\n",
            "4685/4685 [==============================] - 415s 88ms/step - loss: 0.0277 - accuracy: 0.9905\n",
            "Epoch 86/100\n",
            "4685/4685 [==============================] - ETA: 0s - loss: 0.0263 - accuracy: 0.9911\n",
            "Epoch 86: accuracy improved from 0.99065 to 0.99107, saving model to /content/drive/Shareddrives/DEAP EEG/Models Saved/Valence/CNN_algorithm_model2/weights-improvement-86-0.9911.hdf5\n",
            "4685/4685 [==============================] - 415s 89ms/step - loss: 0.0263 - accuracy: 0.9911\n",
            "Epoch 87/100\n",
            "4685/4685 [==============================] - ETA: 0s - loss: 0.0275 - accuracy: 0.9907\n",
            "Epoch 87: accuracy did not improve from 0.99107\n",
            "4685/4685 [==============================] - 414s 88ms/step - loss: 0.0275 - accuracy: 0.9907\n",
            "Epoch 88/100\n",
            "4685/4685 [==============================] - ETA: 0s - loss: 0.0277 - accuracy: 0.9910\n",
            "Epoch 88: accuracy did not improve from 0.99107\n",
            "4685/4685 [==============================] - 414s 88ms/step - loss: 0.0277 - accuracy: 0.9910\n",
            "Epoch 89/100\n",
            "4685/4685 [==============================] - ETA: 0s - loss: 0.0278 - accuracy: 0.9910\n",
            "Epoch 89: accuracy did not improve from 0.99107\n",
            "4685/4685 [==============================] - 414s 88ms/step - loss: 0.0278 - accuracy: 0.9910\n",
            "Epoch 90/100\n",
            "4685/4685 [==============================] - ETA: 0s - loss: 0.0257 - accuracy: 0.9912\n",
            "Epoch 90: accuracy improved from 0.99107 to 0.99124, saving model to /content/drive/Shareddrives/DEAP EEG/Models Saved/Valence/CNN_algorithm_model2/weights-improvement-90-0.9912.hdf5\n",
            "4685/4685 [==============================] - 415s 89ms/step - loss: 0.0257 - accuracy: 0.9912\n",
            "Epoch 91/100\n",
            "4685/4685 [==============================] - ETA: 0s - loss: 0.0265 - accuracy: 0.9909\n",
            "Epoch 91: accuracy did not improve from 0.99124\n",
            "4685/4685 [==============================] - 414s 88ms/step - loss: 0.0265 - accuracy: 0.9909\n",
            "Epoch 92/100\n",
            "4685/4685 [==============================] - ETA: 0s - loss: 0.0274 - accuracy: 0.9908\n",
            "Epoch 92: accuracy did not improve from 0.99124\n",
            "4685/4685 [==============================] - 415s 89ms/step - loss: 0.0274 - accuracy: 0.9908\n",
            "Epoch 93/100\n",
            "4685/4685 [==============================] - ETA: 0s - loss: 0.0256 - accuracy: 0.9913\n",
            "Epoch 93: accuracy improved from 0.99124 to 0.99133, saving model to /content/drive/Shareddrives/DEAP EEG/Models Saved/Valence/CNN_algorithm_model2/weights-improvement-93-0.9913.hdf5\n",
            "4685/4685 [==============================] - 415s 89ms/step - loss: 0.0256 - accuracy: 0.9913\n",
            "Epoch 94/100\n",
            "4685/4685 [==============================] - ETA: 0s - loss: 0.0260 - accuracy: 0.9914\n",
            "Epoch 94: accuracy improved from 0.99133 to 0.99145, saving model to /content/drive/Shareddrives/DEAP EEG/Models Saved/Valence/CNN_algorithm_model2/weights-improvement-94-0.9914.hdf5\n",
            "4685/4685 [==============================] - 416s 89ms/step - loss: 0.0260 - accuracy: 0.9914\n",
            "Epoch 95/100\n",
            "4685/4685 [==============================] - ETA: 0s - loss: 0.0266 - accuracy: 0.9914\n",
            "Epoch 95: accuracy did not improve from 0.99145\n",
            "4685/4685 [==============================] - 415s 89ms/step - loss: 0.0266 - accuracy: 0.9914\n",
            "Epoch 96/100\n",
            "4685/4685 [==============================] - ETA: 0s - loss: 0.0259 - accuracy: 0.9912\n",
            "Epoch 96: accuracy did not improve from 0.99145\n",
            "4685/4685 [==============================] - 415s 89ms/step - loss: 0.0259 - accuracy: 0.9912\n",
            "Epoch 97/100\n",
            "4685/4685 [==============================] - ETA: 0s - loss: 0.0249 - accuracy: 0.9916\n",
            "Epoch 97: accuracy improved from 0.99145 to 0.99165, saving model to /content/drive/Shareddrives/DEAP EEG/Models Saved/Valence/CNN_algorithm_model2/weights-improvement-97-0.9916.hdf5\n",
            "4685/4685 [==============================] - 416s 89ms/step - loss: 0.0249 - accuracy: 0.9916\n",
            "Epoch 98/100\n",
            "4685/4685 [==============================] - ETA: 0s - loss: 0.0258 - accuracy: 0.9915\n",
            "Epoch 98: accuracy did not improve from 0.99165\n",
            "4685/4685 [==============================] - 415s 89ms/step - loss: 0.0258 - accuracy: 0.9915\n",
            "Epoch 99/100\n",
            "4685/4685 [==============================] - ETA: 0s - loss: 0.0252 - accuracy: 0.9917\n",
            "Epoch 99: accuracy improved from 0.99165 to 0.99167, saving model to /content/drive/Shareddrives/DEAP EEG/Models Saved/Valence/CNN_algorithm_model2/weights-improvement-99-0.9917.hdf5\n",
            "4685/4685 [==============================] - 415s 89ms/step - loss: 0.0252 - accuracy: 0.9917\n",
            "Epoch 100/100\n",
            "4685/4685 [==============================] - ETA: 0s - loss: 0.0256 - accuracy: 0.9912\n",
            "Epoch 100: accuracy did not improve from 0.99167\n",
            "4685/4685 [==============================] - 415s 89ms/step - loss: 0.0256 - accuracy: 0.9912\n"
          ]
        }
      ]
    },
    {
      "cell_type": "markdown",
      "source": [
        "**Evaluating the CNN model testing accuracy**"
      ],
      "metadata": {
        "id": "Zv7YLyEkIqZJ"
      }
    },
    {
      "cell_type": "code",
      "source": [
        "score = model.evaluate(x_test, y_test, verbose=1)\n",
        "print('Test loss:', score[0])\n",
        "print('Test accuracy:', score[1])"
      ],
      "metadata": {
        "colab": {
          "base_uri": "https://localhost:8080/"
        },
        "id": "mshOXNRDl9S2",
        "outputId": "260bd183-eac8-4ef6-829c-914ab41bc6fc"
      },
      "execution_count": null,
      "outputs": [
        {
          "output_type": "stream",
          "name": "stdout",
          "text": [
            "4880/4880 [==============================] - 56s 11ms/step - loss: 0.1501 - accuracy: 0.9664\n",
            "Test loss: 0.1500704139471054\n",
            "Test accuracy: 0.9664126634597778\n"
          ]
        }
      ]
    },
    {
      "cell_type": "markdown",
      "source": [
        "**Loading the saved weights of CNN model**"
      ],
      "metadata": {
        "id": "we82nrgjI8a7"
      }
    },
    {
      "cell_type": "code",
      "source": [
        "from keras.models import load_model\n",
        "model_loaded = load_model('/content/drive/Shareddrives/DEAP EEG/Models Saved/Valence/CNN_algorithm_model2/weights-improvement-99-0.9917.hdf5')\n",
        "score = model_loaded.evaluate(x_test, y_test, verbose=1)\n",
        "print('Test loss:', score[0])\n",
        "print('Test accuracy:', score[1])"
      ],
      "metadata": {
        "colab": {
          "base_uri": "https://localhost:8080/"
        },
        "id": "L2WEwBa-4HTK",
        "outputId": "b5d02b42-338d-4e8c-84cd-8a34d3c1c770"
      },
      "execution_count": null,
      "outputs": [
        {
          "output_type": "stream",
          "name": "stdout",
          "text": [
            "4880/4880 [==============================] - 62s 11ms/step - loss: 0.1572 - accuracy: 0.9686\n",
            "Test loss: 0.15724389255046844\n",
            "Test accuracy: 0.9685899019241333\n"
          ]
        }
      ]
    },
    {
      "cell_type": "code",
      "source": [
        "y_true = np.array(y_test)\n",
        "y_pred = model_loaded.predict(x_test)"
      ],
      "metadata": {
        "id": "iEy2UH76-ah4"
      },
      "execution_count": null,
      "outputs": []
    },
    {
      "cell_type": "markdown",
      "source": [
        "**Classification report of CNN model**"
      ],
      "metadata": {
        "id": "NhSPSboxJGEf"
      }
    },
    {
      "cell_type": "code",
      "source": [
        "y_pred = np.squeeze(y_pred)\n",
        "y_pred = np.array(y_pred >= 0.5, dtype=np.int)\n",
        "\n",
        "from sklearn.metrics import classification_report\n",
        "print(classification_report(y_test, y_pred))"
      ],
      "metadata": {
        "colab": {
          "base_uri": "https://localhost:8080/"
        },
        "id": "1pQ_42Wg8HGg",
        "outputId": "6361e9b6-210d-41e5-c421-30c6b075c72d"
      },
      "execution_count": null,
      "outputs": [
        {
          "output_type": "stream",
          "name": "stdout",
          "text": [
            "              precision    recall  f1-score   support\n",
            "\n",
            "           0       0.96      0.97      0.96     67832\n",
            "           1       0.97      0.97      0.97     88328\n",
            "\n",
            "   micro avg       0.97      0.97      0.97    156160\n",
            "   macro avg       0.97      0.97      0.97    156160\n",
            "weighted avg       0.97      0.97      0.97    156160\n",
            " samples avg       0.97      0.97      0.97    156160\n",
            "\n"
          ]
        }
      ]
    },
    {
      "cell_type": "markdown",
      "source": [
        "## LSTM"
      ],
      "metadata": {
        "id": "DBMEwFaXifj2"
      }
    },
    {
      "cell_type": "code",
      "source": [
        "# LSTM Examples: https://keras.io/examples/nlp/bidirectional_lstm_imdb/\n",
        "# https://machinelearningmastery.com/time-series-prediction-lstm-recurrent-neural-networks-python-keras/ \n",
        "# LSTM for international airline passengers problem with time step regression framing\n",
        "import numpy\n",
        "import matplotlib.pyplot as plt\n",
        "from pandas import read_csv\n",
        "import math\n",
        "from keras.models import Sequential\n",
        "from keras.layers import Dense\n",
        "from keras.layers import LSTM\n",
        "from sklearn.preprocessing import MinMaxScaler\n",
        "from sklearn.metrics import mean_squared_error\n",
        "\n",
        "# reshape input to be [samples, time steps, features]\n",
        "#trainX = numpy.reshape(trainX, (trainX.shape[0], trainX.shape[1], 1))\n",
        "#testX = numpy.reshape(testX, (testX.shape[0], testX.shape[1], 1))\n",
        "\n",
        "# create and fit the LSTM network\n",
        "model = Sequential()\n",
        "model.add(LSTM(100, input_shape=(70,1), return_sequences=True))\n",
        "model.add(LSTM(100))\n",
        "model.add(Dense(20))\n",
        "model.add(Dense(2))\n",
        "model.compile(loss='binary_crossentropy', optimizer='adam', metrics=[\"accuracy\"])\n",
        "model.fit(x_train, y_train, epochs=100, batch_size=100, verbose=1)"
      ],
      "metadata": {
        "colab": {
          "base_uri": "https://localhost:8080/"
        },
        "outputId": "3315f664-1865-4baa-d02e-5482fd8a98ee",
        "id": "Iwg4sBgljqcJ"
      },
      "execution_count": null,
      "outputs": [
        {
          "output_type": "stream",
          "name": "stdout",
          "text": [
            "Epoch 1/100\n",
            "4685/4685 [==============================] - 64s 12ms/step - loss: 0.6715 - accuracy: 0.5892\n",
            "Epoch 2/100\n",
            "4685/4685 [==============================] - 64s 14ms/step - loss: 0.6379 - accuracy: 0.6289\n",
            "Epoch 3/100\n",
            "4685/4685 [==============================] - 60s 13ms/step - loss: 0.6318 - accuracy: 0.6362\n",
            "Epoch 4/100\n",
            "4685/4685 [==============================] - 53s 11ms/step - loss: 0.6239 - accuracy: 0.6453\n",
            "Epoch 5/100\n",
            "4685/4685 [==============================] - 54s 11ms/step - loss: 0.6093 - accuracy: 0.6582\n",
            "Epoch 6/100\n",
            "4685/4685 [==============================] - 60s 13ms/step - loss: 0.6169 - accuracy: 0.6523\n",
            "Epoch 7/100\n",
            "4685/4685 [==============================] - 52s 11ms/step - loss: 0.6140 - accuracy: 0.6549\n",
            "Epoch 8/100\n",
            "4685/4685 [==============================] - 53s 11ms/step - loss: 0.5977 - accuracy: 0.6701\n",
            "Epoch 9/100\n",
            "4685/4685 [==============================] - 53s 11ms/step - loss: 0.5851 - accuracy: 0.6810\n",
            "Epoch 10/100\n",
            "4685/4685 [==============================] - 52s 11ms/step - loss: 0.5882 - accuracy: 0.6797\n",
            "Epoch 11/100\n",
            "4685/4685 [==============================] - 53s 11ms/step - loss: 0.5799 - accuracy: 0.6856\n",
            "Epoch 12/100\n",
            "4685/4685 [==============================] - 52s 11ms/step - loss: 0.5759 - accuracy: 0.6889\n",
            "Epoch 13/100\n",
            "4685/4685 [==============================] - 52s 11ms/step - loss: 0.5810 - accuracy: 0.6854\n",
            "Epoch 14/100\n",
            "4685/4685 [==============================] - 52s 11ms/step - loss: 0.5683 - accuracy: 0.6947\n",
            "Epoch 15/100\n",
            "4685/4685 [==============================] - 52s 11ms/step - loss: 0.5781 - accuracy: 0.6872\n",
            "Epoch 16/100\n",
            "4685/4685 [==============================] - 53s 11ms/step - loss: 0.5601 - accuracy: 0.7016\n",
            "Epoch 17/100\n",
            "4685/4685 [==============================] - 53s 11ms/step - loss: 0.5611 - accuracy: 0.7010\n",
            "Epoch 18/100\n",
            "4685/4685 [==============================] - 52s 11ms/step - loss: 0.5686 - accuracy: 0.6963\n",
            "Epoch 19/100\n",
            "4685/4685 [==============================] - 53s 11ms/step - loss: 0.5611 - accuracy: 0.7024\n",
            "Epoch 20/100\n",
            "4685/4685 [==============================] - 52s 11ms/step - loss: 0.5566 - accuracy: 0.7061\n",
            "Epoch 21/100\n",
            "4685/4685 [==============================] - 52s 11ms/step - loss: 0.5400 - accuracy: 0.7181\n",
            "Epoch 22/100\n",
            "4685/4685 [==============================] - 53s 11ms/step - loss: 0.5408 - accuracy: 0.7169\n",
            "Epoch 23/100\n",
            "4685/4685 [==============================] - 52s 11ms/step - loss: 0.5314 - accuracy: 0.7238\n",
            "Epoch 24/100\n",
            "4685/4685 [==============================] - 53s 11ms/step - loss: 0.5334 - accuracy: 0.7229\n",
            "Epoch 25/100\n",
            "4685/4685 [==============================] - 54s 11ms/step - loss: 0.5318 - accuracy: 0.7250\n",
            "Epoch 26/100\n",
            "4685/4685 [==============================] - 54s 11ms/step - loss: 0.5284 - accuracy: 0.7268\n",
            "Epoch 27/100\n",
            "4685/4685 [==============================] - 53s 11ms/step - loss: 0.5213 - accuracy: 0.7324\n",
            "Epoch 28/100\n",
            "4685/4685 [==============================] - 52s 11ms/step - loss: 0.5220 - accuracy: 0.7315\n",
            "Epoch 29/100\n",
            "4685/4685 [==============================] - 53s 11ms/step - loss: 0.5121 - accuracy: 0.7385\n",
            "Epoch 30/100\n",
            "4685/4685 [==============================] - 54s 11ms/step - loss: 0.5234 - accuracy: 0.7318\n",
            "Epoch 31/100\n",
            "4685/4685 [==============================] - 53s 11ms/step - loss: 0.5096 - accuracy: 0.7418\n",
            "Epoch 32/100\n",
            "4685/4685 [==============================] - 53s 11ms/step - loss: 0.5295 - accuracy: 0.7260\n",
            "Epoch 33/100\n",
            "4685/4685 [==============================] - 52s 11ms/step - loss: 0.5323 - accuracy: 0.7248\n",
            "Epoch 34/100\n",
            "4685/4685 [==============================] - 53s 11ms/step - loss: 0.5524 - accuracy: 0.7120\n",
            "Epoch 35/100\n",
            "4685/4685 [==============================] - 52s 11ms/step - loss: 0.5270 - accuracy: 0.7287\n",
            "Epoch 36/100\n",
            "4685/4685 [==============================] - 52s 11ms/step - loss: 0.5204 - accuracy: 0.7358\n",
            "Epoch 37/100\n",
            "4685/4685 [==============================] - 53s 11ms/step - loss: 0.5147 - accuracy: 0.7386\n",
            "Epoch 38/100\n",
            "4685/4685 [==============================] - 53s 11ms/step - loss: 0.5163 - accuracy: 0.7380\n",
            "Epoch 39/100\n",
            "4685/4685 [==============================] - 52s 11ms/step - loss: 0.5128 - accuracy: 0.7402\n",
            "Epoch 40/100\n",
            "4685/4685 [==============================] - 53s 11ms/step - loss: 0.5523 - accuracy: 0.7095\n",
            "Epoch 41/100\n",
            "4685/4685 [==============================] - 53s 11ms/step - loss: 0.5591 - accuracy: 0.7078\n",
            "Epoch 42/100\n",
            "4685/4685 [==============================] - 53s 11ms/step - loss: 0.5239 - accuracy: 0.7353\n",
            "Epoch 43/100\n",
            "4685/4685 [==============================] - 53s 11ms/step - loss: 0.5292 - accuracy: 0.7308\n",
            "Epoch 44/100\n",
            "4685/4685 [==============================] - 52s 11ms/step - loss: 0.4941 - accuracy: 0.7526\n",
            "Epoch 45/100\n",
            "4685/4685 [==============================] - 53s 11ms/step - loss: 0.5146 - accuracy: 0.7370\n",
            "Epoch 46/100\n",
            "4685/4685 [==============================] - 52s 11ms/step - loss: 0.4832 - accuracy: 0.7609\n",
            "Epoch 47/100\n",
            "4685/4685 [==============================] - 53s 11ms/step - loss: 0.5299 - accuracy: 0.7285\n",
            "Epoch 48/100\n",
            "4685/4685 [==============================] - 54s 11ms/step - loss: 0.4782 - accuracy: 0.7635\n",
            "Epoch 49/100\n",
            "4685/4685 [==============================] - 52s 11ms/step - loss: 0.4812 - accuracy: 0.7620\n",
            "Epoch 50/100\n",
            "4685/4685 [==============================] - 53s 11ms/step - loss: 0.4916 - accuracy: 0.7532\n",
            "Epoch 51/100\n",
            "4685/4685 [==============================] - 53s 11ms/step - loss: 0.4792 - accuracy: 0.7628\n",
            "Epoch 52/100\n",
            "4685/4685 [==============================] - 53s 11ms/step - loss: 0.4726 - accuracy: 0.7670\n",
            "Epoch 53/100\n",
            "4685/4685 [==============================] - 53s 11ms/step - loss: 0.5069 - accuracy: 0.7459\n",
            "Epoch 54/100\n",
            "4685/4685 [==============================] - 53s 11ms/step - loss: 0.5012 - accuracy: 0.7483\n",
            "Epoch 55/100\n",
            "4685/4685 [==============================] - 54s 11ms/step - loss: 0.4996 - accuracy: 0.7493\n",
            "Epoch 56/100\n",
            "4685/4685 [==============================] - 54s 11ms/step - loss: 0.4821 - accuracy: 0.7598\n",
            "Epoch 57/100\n",
            "4685/4685 [==============================] - 53s 11ms/step - loss: 0.4853 - accuracy: 0.7587\n",
            "Epoch 58/100\n",
            "4685/4685 [==============================] - 53s 11ms/step - loss: 0.4753 - accuracy: 0.7660\n",
            "Epoch 59/100\n",
            "4685/4685 [==============================] - 53s 11ms/step - loss: 0.4831 - accuracy: 0.7606\n",
            "Epoch 60/100\n",
            "4685/4685 [==============================] - 54s 12ms/step - loss: 0.4844 - accuracy: 0.7609\n",
            "Epoch 61/100\n",
            "4685/4685 [==============================] - 54s 11ms/step - loss: 0.4609 - accuracy: 0.7752\n",
            "Epoch 62/100\n",
            "4685/4685 [==============================] - 54s 12ms/step - loss: 0.4581 - accuracy: 0.7777\n",
            "Epoch 63/100\n",
            "4685/4685 [==============================] - 54s 12ms/step - loss: 0.4577 - accuracy: 0.7782\n",
            "Epoch 64/100\n",
            "4685/4685 [==============================] - 54s 12ms/step - loss: 0.4847 - accuracy: 0.7577\n",
            "Epoch 65/100\n",
            "4685/4685 [==============================] - 53s 11ms/step - loss: 0.4778 - accuracy: 0.7669\n",
            "Epoch 66/100\n",
            "4685/4685 [==============================] - 54s 11ms/step - loss: 0.4474 - accuracy: 0.7844\n",
            "Epoch 67/100\n",
            "4685/4685 [==============================] - 53s 11ms/step - loss: 0.4644 - accuracy: 0.7731\n",
            "Epoch 68/100\n",
            "4685/4685 [==============================] - 53s 11ms/step - loss: 0.4653 - accuracy: 0.7749\n",
            "Epoch 69/100\n",
            "4685/4685 [==============================] - 53s 11ms/step - loss: 0.4626 - accuracy: 0.7761\n",
            "Epoch 70/100\n",
            "4685/4685 [==============================] - 53s 11ms/step - loss: 0.4471 - accuracy: 0.7854\n",
            "Epoch 71/100\n",
            "4685/4685 [==============================] - 53s 11ms/step - loss: 0.4414 - accuracy: 0.7895\n",
            "Epoch 72/100\n",
            "4685/4685 [==============================] - 53s 11ms/step - loss: 0.4523 - accuracy: 0.7811\n",
            "Epoch 73/100\n",
            "4685/4685 [==============================] - 53s 11ms/step - loss: 0.4401 - accuracy: 0.7902\n",
            "Epoch 74/100\n",
            "4685/4685 [==============================] - 53s 11ms/step - loss: 0.4689 - accuracy: 0.7737\n",
            "Epoch 75/100\n",
            "4685/4685 [==============================] - 53s 11ms/step - loss: 0.4619 - accuracy: 0.7774\n",
            "Epoch 76/100\n",
            "4685/4685 [==============================] - 53s 11ms/step - loss: 0.4932 - accuracy: 0.7546\n",
            "Epoch 77/100\n",
            "4685/4685 [==============================] - 53s 11ms/step - loss: 0.4828 - accuracy: 0.7623\n",
            "Epoch 78/100\n",
            "4685/4685 [==============================] - 53s 11ms/step - loss: 0.5028 - accuracy: 0.7493\n",
            "Epoch 79/100\n",
            "4685/4685 [==============================] - 53s 11ms/step - loss: 0.4781 - accuracy: 0.7653\n",
            "Epoch 80/100\n",
            "4685/4685 [==============================] - 53s 11ms/step - loss: 0.4975 - accuracy: 0.7546\n",
            "Epoch 81/100\n",
            "4685/4685 [==============================] - 53s 11ms/step - loss: 0.5457 - accuracy: 0.7225\n",
            "Epoch 82/100\n",
            "4685/4685 [==============================] - 53s 11ms/step - loss: 0.4654 - accuracy: 0.7754\n",
            "Epoch 83/100\n",
            "4685/4685 [==============================] - 53s 11ms/step - loss: 0.4704 - accuracy: 0.7730\n",
            "Epoch 84/100\n",
            "4685/4685 [==============================] - 53s 11ms/step - loss: 0.4986 - accuracy: 0.7527\n",
            "Epoch 85/100\n",
            "4685/4685 [==============================] - 53s 11ms/step - loss: 0.4663 - accuracy: 0.7736\n",
            "Epoch 86/100\n",
            "4685/4685 [==============================] - 53s 11ms/step - loss: 0.5184 - accuracy: 0.7394\n",
            "Epoch 87/100\n",
            "4685/4685 [==============================] - 53s 11ms/step - loss: 0.4662 - accuracy: 0.7742\n",
            "Epoch 88/100\n",
            "4685/4685 [==============================] - 53s 11ms/step - loss: 0.4734 - accuracy: 0.7694\n",
            "Epoch 89/100\n",
            "4685/4685 [==============================] - 54s 11ms/step - loss: 0.4833 - accuracy: 0.7638\n",
            "Epoch 90/100\n",
            "4685/4685 [==============================] - 53s 11ms/step - loss: 0.4581 - accuracy: 0.7809\n",
            "Epoch 91/100\n",
            "4685/4685 [==============================] - 57s 12ms/step - loss: 0.4801 - accuracy: 0.7636\n",
            "Epoch 92/100\n",
            "4685/4685 [==============================] - 58s 12ms/step - loss: 0.4483 - accuracy: 0.7844\n",
            "Epoch 93/100\n",
            "4685/4685 [==============================] - 53s 11ms/step - loss: 0.4538 - accuracy: 0.7824\n",
            "Epoch 94/100\n",
            "4685/4685 [==============================] - 53s 11ms/step - loss: 0.4728 - accuracy: 0.7712\n",
            "Epoch 95/100\n",
            "4685/4685 [==============================] - 53s 11ms/step - loss: 0.4627 - accuracy: 0.7759\n",
            "Epoch 96/100\n",
            "4685/4685 [==============================] - 54s 11ms/step - loss: 0.4479 - accuracy: 0.7854\n",
            "Epoch 97/100\n",
            "4685/4685 [==============================] - 55s 12ms/step - loss: 0.4765 - accuracy: 0.7699\n",
            "Epoch 98/100\n",
            "4685/4685 [==============================] - 59s 12ms/step - loss: 0.4474 - accuracy: 0.7877\n",
            "Epoch 99/100\n",
            "4685/4685 [==============================] - 55s 12ms/step - loss: 0.4550 - accuracy: 0.7826\n",
            "Epoch 100/100\n",
            "4685/4685 [==============================] - 53s 11ms/step - loss: 0.4707 - accuracy: 0.7765\n"
          ]
        },
        {
          "output_type": "execute_result",
          "data": {
            "text/plain": [
              "<keras.callbacks.History at 0x7fe59e16a810>"
            ]
          },
          "metadata": {},
          "execution_count": 23
        }
      ]
    },
    {
      "cell_type": "markdown",
      "source": [
        "**Saving the final weights of LSTM after 100 epochs**"
      ],
      "metadata": {
        "id": "x7LNhVwiN4iV"
      }
    },
    {
      "cell_type": "code",
      "source": [
        "# save the model to disk\n",
        "filename = '/content/drive/Shareddrives/DEAP EEG/Models Saved/Valence/LSTM/model_save.h5'\n",
        "model.save(filename)"
      ],
      "metadata": {
        "id": "c9ua4bu9l9Sb"
      },
      "execution_count": null,
      "outputs": []
    },
    {
      "cell_type": "markdown",
      "source": [
        "**Accuracy of LSTM after 100 epochs**"
      ],
      "metadata": {
        "id": "M9ZSXEphOOpi"
      }
    },
    {
      "cell_type": "code",
      "source": [
        "score = model.evaluate(x_test, y_test, verbose=1)\n",
        "print('Test loss:', score[0])\n",
        "print('Test accuracy:', score[1])"
      ],
      "metadata": {
        "colab": {
          "base_uri": "https://localhost:8080/"
        },
        "id": "84rxOCjtnI4e",
        "outputId": "68b359f8-d85c-4b7c-c3d7-3f6cdbf5297a"
      },
      "execution_count": null,
      "outputs": [
        {
          "output_type": "stream",
          "name": "stdout",
          "text": [
            "4880/4880 [==============================] - 22s 4ms/step - loss: 0.4690 - accuracy: 0.7744\n",
            "Test loss: 0.4689950942993164\n",
            "Test accuracy: 0.7744172811508179\n"
          ]
        }
      ]
    },
    {
      "cell_type": "markdown",
      "source": [
        "**2nd run (100-200 epochs)**"
      ],
      "metadata": {
        "id": "jeQib_hB5eIf"
      }
    },
    {
      "cell_type": "code",
      "source": [
        "from keras.models import load_model\n",
        "model_loaded = load_model('/content/drive/Shareddrives/DEAP EEG/Models Saved/Valence/LSTM/model_save.h5')\n",
        "\n",
        "H = model_loaded.fit(x_train, y_train, epochs=100, batch_size=100, verbose=1)"
      ],
      "metadata": {
        "colab": {
          "base_uri": "https://localhost:8080/"
        },
        "id": "91ApurRE118D",
        "outputId": "6c3d021a-4571-492b-9bda-8a512f19e58b"
      },
      "execution_count": null,
      "outputs": [
        {
          "output_type": "stream",
          "name": "stdout",
          "text": [
            "Epoch 1/100\n",
            "4685/4685 [==============================] - 62s 11ms/step - loss: 0.5211 - accuracy: 0.7398\n",
            "Epoch 2/100\n",
            "4685/4685 [==============================] - 52s 11ms/step - loss: 0.4555 - accuracy: 0.7818\n",
            "Epoch 3/100\n",
            "4685/4685 [==============================] - 52s 11ms/step - loss: 0.4734 - accuracy: 0.7731\n",
            "Epoch 4/100\n",
            "4685/4685 [==============================] - 52s 11ms/step - loss: 0.4721 - accuracy: 0.7738\n",
            "Epoch 5/100\n",
            "4685/4685 [==============================] - 52s 11ms/step - loss: 0.4629 - accuracy: 0.7781\n",
            "Epoch 6/100\n",
            "4685/4685 [==============================] - 52s 11ms/step - loss: 0.4614 - accuracy: 0.7832\n",
            "Epoch 7/100\n",
            "4685/4685 [==============================] - 51s 11ms/step - loss: 0.4431 - accuracy: 0.7907\n",
            "Epoch 8/100\n",
            "4685/4685 [==============================] - 51s 11ms/step - loss: 0.4363 - accuracy: 0.7948\n",
            "Epoch 9/100\n",
            "4685/4685 [==============================] - 51s 11ms/step - loss: 0.4351 - accuracy: 0.7964\n",
            "Epoch 10/100\n",
            "4685/4685 [==============================] - 51s 11ms/step - loss: 0.4221 - accuracy: 0.8035\n",
            "Epoch 11/100\n",
            "4685/4685 [==============================] - 51s 11ms/step - loss: 0.4314 - accuracy: 0.7956\n",
            "Epoch 12/100\n",
            "4685/4685 [==============================] - 52s 11ms/step - loss: 0.4500 - accuracy: 0.7868\n",
            "Epoch 13/100\n",
            "4685/4685 [==============================] - 52s 11ms/step - loss: 0.4340 - accuracy: 0.7968\n",
            "Epoch 14/100\n",
            "4685/4685 [==============================] - 51s 11ms/step - loss: 0.4382 - accuracy: 0.7950\n",
            "Epoch 15/100\n",
            "4685/4685 [==============================] - 51s 11ms/step - loss: 0.4245 - accuracy: 0.8020\n",
            "Epoch 16/100\n",
            "4685/4685 [==============================] - 52s 11ms/step - loss: 0.4218 - accuracy: 0.8039\n",
            "Epoch 17/100\n",
            "4685/4685 [==============================] - 53s 11ms/step - loss: 0.4865 - accuracy: 0.7644\n",
            "Epoch 18/100\n",
            "4685/4685 [==============================] - 53s 11ms/step - loss: 0.4375 - accuracy: 0.7930\n",
            "Epoch 19/100\n",
            "4685/4685 [==============================] - 52s 11ms/step - loss: 0.4608 - accuracy: 0.7791\n",
            "Epoch 20/100\n",
            "4685/4685 [==============================] - 52s 11ms/step - loss: 0.4497 - accuracy: 0.7876\n",
            "Epoch 21/100\n",
            "4685/4685 [==============================] - 51s 11ms/step - loss: 0.4393 - accuracy: 0.7926\n",
            "Epoch 22/100\n",
            "4685/4685 [==============================] - 51s 11ms/step - loss: 0.4534 - accuracy: 0.7838\n",
            "Epoch 23/100\n",
            "4685/4685 [==============================] - 51s 11ms/step - loss: 0.4490 - accuracy: 0.7877\n",
            "Epoch 24/100\n",
            "4685/4685 [==============================] - 52s 11ms/step - loss: 0.4413 - accuracy: 0.7950\n",
            "Epoch 25/100\n",
            "4685/4685 [==============================] - 50s 11ms/step - loss: 0.4397 - accuracy: 0.7952\n",
            "Epoch 26/100\n",
            "4685/4685 [==============================] - 50s 11ms/step - loss: 0.4480 - accuracy: 0.7907\n",
            "Epoch 27/100\n",
            "4685/4685 [==============================] - 49s 10ms/step - loss: 0.4106 - accuracy: 0.8102\n",
            "Epoch 28/100\n",
            "4685/4685 [==============================] - 50s 11ms/step - loss: 0.4296 - accuracy: 0.8006\n",
            "Epoch 29/100\n",
            "4685/4685 [==============================] - 51s 11ms/step - loss: 0.4100 - accuracy: 0.8101\n",
            "Epoch 30/100\n",
            "4685/4685 [==============================] - 50s 11ms/step - loss: 0.4638 - accuracy: 0.7810\n",
            "Epoch 31/100\n",
            "4685/4685 [==============================] - 52s 11ms/step - loss: 0.4328 - accuracy: 0.7984\n",
            "Epoch 32/100\n",
            "4685/4685 [==============================] - 50s 11ms/step - loss: 0.4481 - accuracy: 0.7941\n",
            "Epoch 33/100\n",
            "4685/4685 [==============================] - 50s 11ms/step - loss: 0.4084 - accuracy: 0.8134\n",
            "Epoch 34/100\n",
            "4685/4685 [==============================] - 51s 11ms/step - loss: 0.4978 - accuracy: 0.7556\n",
            "Epoch 35/100\n",
            "4685/4685 [==============================] - 50s 11ms/step - loss: 0.4569 - accuracy: 0.7871\n",
            "Epoch 36/100\n",
            "4685/4685 [==============================] - 50s 11ms/step - loss: 0.4236 - accuracy: 0.8027\n",
            "Epoch 37/100\n",
            "4685/4685 [==============================] - 52s 11ms/step - loss: 0.4417 - accuracy: 0.7964\n",
            "Epoch 38/100\n",
            "4685/4685 [==============================] - 50s 11ms/step - loss: 0.4048 - accuracy: 0.8155\n",
            "Epoch 39/100\n",
            "4685/4685 [==============================] - 52s 11ms/step - loss: 0.4171 - accuracy: 0.8103\n",
            "Epoch 40/100\n",
            "4685/4685 [==============================] - 50s 11ms/step - loss: 0.4095 - accuracy: 0.8129\n",
            "Epoch 41/100\n",
            "4685/4685 [==============================] - 50s 11ms/step - loss: 0.4114 - accuracy: 0.8113\n",
            "Epoch 42/100\n",
            "4685/4685 [==============================] - 50s 11ms/step - loss: 0.4132 - accuracy: 0.8101\n",
            "Epoch 43/100\n",
            "4685/4685 [==============================] - 50s 11ms/step - loss: 0.4342 - accuracy: 0.7971\n",
            "Epoch 44/100\n",
            "4685/4685 [==============================] - 50s 11ms/step - loss: 0.4135 - accuracy: 0.8090\n",
            "Epoch 45/100\n",
            "4685/4685 [==============================] - 50s 11ms/step - loss: 0.4440 - accuracy: 0.7910\n",
            "Epoch 46/100\n",
            "4685/4685 [==============================] - 50s 11ms/step - loss: 0.4137 - accuracy: 0.8087\n",
            "Epoch 47/100\n",
            "4685/4685 [==============================] - 50s 11ms/step - loss: 0.4546 - accuracy: 0.7864\n",
            "Epoch 48/100\n",
            "4685/4685 [==============================] - 50s 11ms/step - loss: 0.4222 - accuracy: 0.8056\n",
            "Epoch 49/100\n",
            "4685/4685 [==============================] - 50s 11ms/step - loss: 0.4348 - accuracy: 0.7969\n",
            "Epoch 50/100\n",
            "4685/4685 [==============================] - 50s 11ms/step - loss: 0.4172 - accuracy: 0.8098\n",
            "Epoch 51/100\n",
            "4685/4685 [==============================] - 50s 11ms/step - loss: 0.4254 - accuracy: 0.8068\n",
            "Epoch 52/100\n",
            "4685/4685 [==============================] - 50s 11ms/step - loss: 0.4301 - accuracy: 0.7985\n",
            "Epoch 53/100\n",
            "4685/4685 [==============================] - 50s 11ms/step - loss: 0.4388 - accuracy: 0.7929\n",
            "Epoch 54/100\n",
            "4685/4685 [==============================] - 50s 11ms/step - loss: 0.4243 - accuracy: 0.8026\n",
            "Epoch 55/100\n",
            "4685/4685 [==============================] - 50s 11ms/step - loss: 0.4116 - accuracy: 0.8104\n",
            "Epoch 56/100\n",
            "4685/4685 [==============================] - 50s 11ms/step - loss: 0.4444 - accuracy: 0.7920\n",
            "Epoch 57/100\n",
            "4685/4685 [==============================] - 50s 11ms/step - loss: 0.4611 - accuracy: 0.7811\n",
            "Epoch 58/100\n",
            "4685/4685 [==============================] - 50s 11ms/step - loss: 0.4387 - accuracy: 0.7963\n",
            "Epoch 59/100\n",
            "4685/4685 [==============================] - 50s 11ms/step - loss: 0.4428 - accuracy: 0.7931\n",
            "Epoch 60/100\n",
            "4685/4685 [==============================] - 50s 11ms/step - loss: 0.4111 - accuracy: 0.8106\n",
            "Epoch 61/100\n",
            "4685/4685 [==============================] - 50s 11ms/step - loss: 0.5264 - accuracy: 0.7359\n",
            "Epoch 62/100\n",
            "4685/4685 [==============================] - 50s 11ms/step - loss: 0.4681 - accuracy: 0.7772\n",
            "Epoch 63/100\n",
            "4685/4685 [==============================] - 50s 11ms/step - loss: 0.4386 - accuracy: 0.7950\n",
            "Epoch 64/100\n",
            "4685/4685 [==============================] - 50s 11ms/step - loss: 0.4282 - accuracy: 0.8018\n",
            "Epoch 65/100\n",
            "4685/4685 [==============================] - 50s 11ms/step - loss: 0.3920 - accuracy: 0.8227\n",
            "Epoch 66/100\n",
            "4685/4685 [==============================] - 50s 11ms/step - loss: 0.4335 - accuracy: 0.8004\n",
            "Epoch 67/100\n",
            "4685/4685 [==============================] - 50s 11ms/step - loss: 0.4453 - accuracy: 0.7915\n",
            "Epoch 68/100\n",
            "4685/4685 [==============================] - 50s 11ms/step - loss: 0.4034 - accuracy: 0.8186\n",
            "Epoch 69/100\n",
            "4685/4685 [==============================] - 50s 11ms/step - loss: 0.3894 - accuracy: 0.8233\n",
            "Epoch 70/100\n",
            "4685/4685 [==============================] - 50s 11ms/step - loss: 0.4035 - accuracy: 0.8182\n",
            "Epoch 71/100\n",
            "4685/4685 [==============================] - 50s 11ms/step - loss: 0.4314 - accuracy: 0.8044\n",
            "Epoch 72/100\n",
            "4685/4685 [==============================] - 50s 11ms/step - loss: 0.4442 - accuracy: 0.7946\n",
            "Epoch 73/100\n",
            "4685/4685 [==============================] - 50s 11ms/step - loss: 0.4120 - accuracy: 0.8103\n",
            "Epoch 74/100\n",
            "4685/4685 [==============================] - 50s 11ms/step - loss: 0.4206 - accuracy: 0.8078\n",
            "Epoch 75/100\n",
            "4685/4685 [==============================] - 50s 11ms/step - loss: 0.4275 - accuracy: 0.8018\n",
            "Epoch 76/100\n",
            "4685/4685 [==============================] - 51s 11ms/step - loss: 0.4086 - accuracy: 0.8139\n",
            "Epoch 77/100\n",
            "4685/4685 [==============================] - 51s 11ms/step - loss: 0.3943 - accuracy: 0.8210\n",
            "Epoch 78/100\n",
            "4685/4685 [==============================] - 52s 11ms/step - loss: 0.4439 - accuracy: 0.7969\n",
            "Epoch 79/100\n",
            "4685/4685 [==============================] - 52s 11ms/step - loss: 0.3998 - accuracy: 0.8178\n",
            "Epoch 80/100\n",
            "4685/4685 [==============================] - 52s 11ms/step - loss: 0.4305 - accuracy: 0.8012\n",
            "Epoch 81/100\n",
            "4685/4685 [==============================] - 52s 11ms/step - loss: 0.4546 - accuracy: 0.7858\n",
            "Epoch 82/100\n",
            "4685/4685 [==============================] - 52s 11ms/step - loss: 0.4156 - accuracy: 0.8107\n",
            "Epoch 83/100\n",
            "4685/4685 [==============================] - 51s 11ms/step - loss: 0.4395 - accuracy: 0.7961\n",
            "Epoch 84/100\n",
            "4685/4685 [==============================] - 51s 11ms/step - loss: 0.4173 - accuracy: 0.8079\n",
            "Epoch 85/100\n",
            "4685/4685 [==============================] - 52s 11ms/step - loss: 0.4331 - accuracy: 0.7974\n",
            "Epoch 86/100\n",
            "4685/4685 [==============================] - 52s 11ms/step - loss: 0.4164 - accuracy: 0.8091\n",
            "Epoch 87/100\n",
            "4685/4685 [==============================] - 52s 11ms/step - loss: 0.4378 - accuracy: 0.7981\n",
            "Epoch 88/100\n",
            "4685/4685 [==============================] - 52s 11ms/step - loss: 0.4642 - accuracy: 0.7830\n",
            "Epoch 89/100\n",
            "4685/4685 [==============================] - 51s 11ms/step - loss: 0.4523 - accuracy: 0.7901\n",
            "Epoch 90/100\n",
            "4685/4685 [==============================] - 52s 11ms/step - loss: 0.4568 - accuracy: 0.7837\n",
            "Epoch 91/100\n",
            "4685/4685 [==============================] - 52s 11ms/step - loss: 0.4041 - accuracy: 0.8173\n",
            "Epoch 92/100\n",
            "4685/4685 [==============================] - 52s 11ms/step - loss: 0.3950 - accuracy: 0.8220\n",
            "Epoch 93/100\n",
            "4685/4685 [==============================] - 52s 11ms/step - loss: 0.4331 - accuracy: 0.8020\n",
            "Epoch 94/100\n",
            "4685/4685 [==============================] - 52s 11ms/step - loss: 0.4129 - accuracy: 0.8131\n",
            "Epoch 95/100\n",
            "4685/4685 [==============================] - 51s 11ms/step - loss: 0.4199 - accuracy: 0.8110\n",
            "Epoch 96/100\n",
            "4685/4685 [==============================] - 52s 11ms/step - loss: 0.4222 - accuracy: 0.8074\n",
            "Epoch 97/100\n",
            "4685/4685 [==============================] - 52s 11ms/step - loss: 0.4017 - accuracy: 0.8182\n",
            "Epoch 98/100\n",
            "4685/4685 [==============================] - 52s 11ms/step - loss: 0.4196 - accuracy: 0.8077\n",
            "Epoch 99/100\n",
            "4685/4685 [==============================] - 52s 11ms/step - loss: 0.3981 - accuracy: 0.8208\n",
            "Epoch 100/100\n",
            "4685/4685 [==============================] - 51s 11ms/step - loss: 0.4061 - accuracy: 0.8157\n"
          ]
        }
      ]
    },
    {
      "cell_type": "markdown",
      "source": [
        "**Accuracy of LSTM after 200 epochs**"
      ],
      "metadata": {
        "id": "1onjhdd4Oe8K"
      }
    },
    {
      "cell_type": "code",
      "source": [
        "score = model_loaded.evaluate(x_test, y_test, verbose=1)\n",
        "print('Test loss:', score[0])\n",
        "print('Test accuracy:', score[1])"
      ],
      "metadata": {
        "colab": {
          "base_uri": "https://localhost:8080/"
        },
        "id": "Ch-2R7J2PzbM",
        "outputId": "efde8c74-e3ac-4140-9704-64e68c6cf5cb"
      },
      "execution_count": null,
      "outputs": [
        {
          "output_type": "stream",
          "name": "stdout",
          "text": [
            "4880/4880 [==============================] - 23s 5ms/step - loss: 0.4630 - accuracy: 0.7920\n",
            "Test loss: 0.46303796768188477\n",
            "Test accuracy: 0.7920466065406799\n"
          ]
        }
      ]
    },
    {
      "cell_type": "markdown",
      "source": [
        "**Loading the LSTM model of 100epochs from google drive**"
      ],
      "metadata": {
        "id": "bPCk9fa-PgbA"
      }
    },
    {
      "cell_type": "code",
      "source": [
        "from keras.models import load_model\n",
        "model_loaded = load_model('/content/drive/Shareddrives/DEAP EEG/Models Saved/Valence/LSTM/model_save.h5')\n",
        "score = model_loaded.evaluate(x_test, y_test, verbose=1)\n",
        "print('Test loss:', score[0])\n",
        "print('Test accuracy:', score[1])"
      ],
      "metadata": {
        "colab": {
          "base_uri": "https://localhost:8080/"
        },
        "id": "UngQDPl_C8g8",
        "outputId": "0734437f-f267-4519-c054-ba2371acfb99"
      },
      "execution_count": null,
      "outputs": [
        {
          "output_type": "stream",
          "name": "stdout",
          "text": [
            "4880/4880 [==============================] - 23s 5ms/step - loss: 0.4690 - accuracy: 0.7744\n",
            "Test loss: 0.4689950942993164\n",
            "Test accuracy: 0.7744172811508179\n"
          ]
        }
      ]
    },
    {
      "cell_type": "code",
      "source": [
        "y_true = np.array(y_test)\n",
        "y_pred = model_loaded.predict(x_test)"
      ],
      "metadata": {
        "id": "RuIZvAwXDnTh"
      },
      "execution_count": null,
      "outputs": []
    },
    {
      "cell_type": "markdown",
      "source": [
        "**Classification report of LSTM model after 100epochs**"
      ],
      "metadata": {
        "id": "ZUrmb5VVPm5P"
      }
    },
    {
      "cell_type": "code",
      "source": [
        "y_pred = np.squeeze(y_pred)\n",
        "y_pred = np.array(y_pred >= 0.5, dtype=np.int)\n",
        "\n",
        "from sklearn.metrics import classification_report\n",
        "print(classification_report(y_test, y_pred))"
      ],
      "metadata": {
        "colab": {
          "base_uri": "https://localhost:8080/"
        },
        "id": "vs6xGQ-HD5Zp",
        "outputId": "daafc98b-669b-4379-a240-f0afffb8d846"
      },
      "execution_count": null,
      "outputs": [
        {
          "output_type": "stream",
          "name": "stdout",
          "text": [
            "              precision    recall  f1-score   support\n",
            "\n",
            "           0       0.75      0.72      0.73     67832\n",
            "           1       0.78      0.83      0.80     88328\n",
            "\n",
            "   micro avg       0.77      0.78      0.78    156160\n",
            "   macro avg       0.77      0.77      0.77    156160\n",
            "weighted avg       0.77      0.78      0.77    156160\n",
            " samples avg       0.77      0.78      0.77    156160\n",
            "\n"
          ]
        }
      ]
    },
    {
      "cell_type": "markdown",
      "source": [
        "## Bi-LSTM"
      ],
      "metadata": {
        "id": "fv5YGMRnREBP"
      }
    },
    {
      "cell_type": "code",
      "source": [
        "# LSTM Examples: https://keras.io/examples/nlp/bidirectional_lstm_imdb/\n",
        "# https://machinelearningmastery.com/time-series-prediction-lstm-recurrent-neural-networks-python-keras/ \n",
        "# LSTM for international airline passengers problem with time step regression framing\n",
        "# Bi-LSTM https://analyticsindiamag.com/complete-guide-to-bidirectional-lstm-with-python-codes/#:~:text=Bidirectional%20long%2Dshort%20term%20memory(bi%2Dlstm)%20is,different%20from%20the%20regular%20LSTM.\n",
        "import numpy\n",
        "import matplotlib.pyplot as plt\n",
        "from pandas import read_csv\n",
        "import math\n",
        "from keras.models import Sequential\n",
        "from keras.layers import Dense\n",
        "from keras.layers import LSTM\n",
        "from sklearn.preprocessing import MinMaxScaler\n",
        "from sklearn.metrics import mean_squared_error\n",
        "from keras.layers import Dropout, Embedding, Bidirectional\n",
        "\n",
        "# reshape input to be [samples, time steps, features]\n",
        "#trainX = numpy.reshape(trainX, (trainX.shape[0], trainX.shape[1], 1))\n",
        "#testX = numpy.reshape(testX, (testX.shape[0], testX.shape[1], 1))\n",
        "\n",
        "# create and fit the LSTM network\n",
        "model = Sequential()\n",
        "model.add(Bidirectional(LSTM(100, input_shape=(70,1), return_sequences=True)))\n",
        "model.add(Bidirectional(LSTM(100)))\n",
        "model.add(Dense(20))\n",
        "model.add(Dense(2))\n",
        "model.compile(loss='binary_crossentropy', optimizer='adam', metrics=[\"accuracy\"])\n",
        "model.fit(x_train, y_train, epochs=100, batch_size=100, verbose=1)"
      ],
      "metadata": {
        "colab": {
          "base_uri": "https://localhost:8080/"
        },
        "outputId": "3ce145b6-3a73-45fd-a97b-06de7e2650d1",
        "id": "9uXbwo1DREBP"
      },
      "execution_count": null,
      "outputs": [
        {
          "output_type": "stream",
          "name": "stdout",
          "text": [
            "Epoch 1/100\n",
            "4685/4685 [==============================] - 131s 25ms/step - loss: 0.6758 - accuracy: 0.5873\n",
            "Epoch 2/100\n",
            "4685/4685 [==============================] - 127s 27ms/step - loss: 0.6478 - accuracy: 0.6169\n",
            "Epoch 3/100\n",
            "4685/4685 [==============================] - 119s 25ms/step - loss: 0.6418 - accuracy: 0.6264\n",
            "Epoch 4/100\n",
            "4685/4685 [==============================] - 118s 25ms/step - loss: 0.6428 - accuracy: 0.6270\n",
            "Epoch 5/100\n",
            "4685/4685 [==============================] - 118s 25ms/step - loss: 0.6306 - accuracy: 0.6388\n",
            "Epoch 6/100\n",
            "4685/4685 [==============================] - 118s 25ms/step - loss: 0.6300 - accuracy: 0.6409\n",
            "Epoch 7/100\n",
            "4685/4685 [==============================] - 118s 25ms/step - loss: 0.6141 - accuracy: 0.6559\n",
            "Epoch 8/100\n",
            "4685/4685 [==============================] - 118s 25ms/step - loss: 0.6233 - accuracy: 0.6459\n",
            "Epoch 9/100\n",
            "4685/4685 [==============================] - 118s 25ms/step - loss: 0.6047 - accuracy: 0.6645\n",
            "Epoch 10/100\n",
            "4685/4685 [==============================] - 118s 25ms/step - loss: 0.5905 - accuracy: 0.6775\n",
            "Epoch 11/100\n",
            "4685/4685 [==============================] - 119s 25ms/step - loss: 0.5778 - accuracy: 0.6902\n",
            "Epoch 12/100\n",
            "4685/4685 [==============================] - 118s 25ms/step - loss: 0.5745 - accuracy: 0.6918\n",
            "Epoch 13/100\n",
            "4685/4685 [==============================] - 118s 25ms/step - loss: 0.5958 - accuracy: 0.6719\n",
            "Epoch 14/100\n",
            "4685/4685 [==============================] - 118s 25ms/step - loss: 0.5784 - accuracy: 0.6893\n",
            "Epoch 15/100\n",
            "4685/4685 [==============================] - 118s 25ms/step - loss: 0.5795 - accuracy: 0.6884\n",
            "Epoch 16/100\n",
            "4685/4685 [==============================] - 118s 25ms/step - loss: 0.5587 - accuracy: 0.7042\n",
            "Epoch 17/100\n",
            "4685/4685 [==============================] - 118s 25ms/step - loss: 0.5546 - accuracy: 0.7058\n",
            "Epoch 18/100\n",
            "4685/4685 [==============================] - 118s 25ms/step - loss: 0.5437 - accuracy: 0.7159\n",
            "Epoch 19/100\n",
            "4685/4685 [==============================] - 118s 25ms/step - loss: 0.5887 - accuracy: 0.6787\n",
            "Epoch 20/100\n",
            "4685/4685 [==============================] - 117s 25ms/step - loss: 0.5590 - accuracy: 0.7041\n",
            "Epoch 21/100\n",
            "4685/4685 [==============================] - 118s 25ms/step - loss: 0.5663 - accuracy: 0.6993\n",
            "Epoch 22/100\n",
            "4685/4685 [==============================] - 118s 25ms/step - loss: 0.5491 - accuracy: 0.7132\n",
            "Epoch 23/100\n",
            "4685/4685 [==============================] - 116s 25ms/step - loss: 0.5575 - accuracy: 0.7063\n",
            "Epoch 24/100\n",
            "4685/4685 [==============================] - 116s 25ms/step - loss: 0.5535 - accuracy: 0.7084\n",
            "Epoch 25/100\n",
            "4685/4685 [==============================] - 115s 25ms/step - loss: 0.5393 - accuracy: 0.7178\n",
            "Epoch 26/100\n",
            "4685/4685 [==============================] - 115s 25ms/step - loss: 0.5473 - accuracy: 0.7130\n",
            "Epoch 27/100\n",
            "4685/4685 [==============================] - 116s 25ms/step - loss: 0.5390 - accuracy: 0.7206\n",
            "Epoch 28/100\n",
            "4685/4685 [==============================] - 115s 25ms/step - loss: 0.5395 - accuracy: 0.7202\n",
            "Epoch 29/100\n",
            "4685/4685 [==============================] - 115s 25ms/step - loss: 0.5175 - accuracy: 0.7362\n",
            "Epoch 30/100\n",
            "4685/4685 [==============================] - 115s 25ms/step - loss: 0.5570 - accuracy: 0.7079\n",
            "Epoch 31/100\n",
            "4685/4685 [==============================] - 116s 25ms/step - loss: 0.5263 - accuracy: 0.7283\n",
            "Epoch 32/100\n",
            "4685/4685 [==============================] - 116s 25ms/step - loss: 0.5351 - accuracy: 0.7217\n",
            "Epoch 33/100\n",
            "4685/4685 [==============================] - 116s 25ms/step - loss: 0.5611 - accuracy: 0.7034\n",
            "Epoch 34/100\n",
            "4685/4685 [==============================] - 115s 25ms/step - loss: 0.5998 - accuracy: 0.6798\n",
            "Epoch 35/100\n",
            "4685/4685 [==============================] - 116s 25ms/step - loss: 0.5538 - accuracy: 0.7104\n",
            "Epoch 36/100\n",
            "4685/4685 [==============================] - 115s 25ms/step - loss: 0.5436 - accuracy: 0.7188\n",
            "Epoch 37/100\n",
            "4685/4685 [==============================] - 115s 25ms/step - loss: 0.5390 - accuracy: 0.7215\n",
            "Epoch 38/100\n",
            "4685/4685 [==============================] - 116s 25ms/step - loss: 0.5210 - accuracy: 0.7347\n",
            "Epoch 39/100\n",
            "4685/4685 [==============================] - 116s 25ms/step - loss: 0.5422 - accuracy: 0.7203\n",
            "Epoch 40/100\n",
            "4685/4685 [==============================] - 115s 25ms/step - loss: 0.5156 - accuracy: 0.7391\n",
            "Epoch 41/100\n",
            "4685/4685 [==============================] - 115s 25ms/step - loss: 0.5203 - accuracy: 0.7356\n",
            "Epoch 42/100\n",
            "4685/4685 [==============================] - 115s 25ms/step - loss: 0.5163 - accuracy: 0.7368\n",
            "Epoch 43/100\n",
            "4685/4685 [==============================] - 115s 25ms/step - loss: 0.5162 - accuracy: 0.7388\n",
            "Epoch 44/100\n",
            "4685/4685 [==============================] - 116s 25ms/step - loss: 0.5103 - accuracy: 0.7426\n",
            "Epoch 45/100\n",
            "4685/4685 [==============================] - 116s 25ms/step - loss: 0.4996 - accuracy: 0.7485\n",
            "Epoch 46/100\n",
            "4685/4685 [==============================] - 116s 25ms/step - loss: 0.5103 - accuracy: 0.7415\n",
            "Epoch 47/100\n",
            "4685/4685 [==============================] - 116s 25ms/step - loss: 0.4905 - accuracy: 0.7558\n",
            "Epoch 48/100\n",
            "4685/4685 [==============================] - 116s 25ms/step - loss: 0.4986 - accuracy: 0.7515\n",
            "Epoch 49/100\n",
            "4685/4685 [==============================] - 117s 25ms/step - loss: 0.5312 - accuracy: 0.7259\n",
            "Epoch 50/100\n",
            "4685/4685 [==============================] - 115s 25ms/step - loss: 0.5449 - accuracy: 0.7176\n",
            "Epoch 51/100\n",
            "4685/4685 [==============================] - 115s 25ms/step - loss: 0.4962 - accuracy: 0.7517\n",
            "Epoch 52/100\n",
            "4685/4685 [==============================] - 115s 25ms/step - loss: 0.4810 - accuracy: 0.7628\n",
            "Epoch 53/100\n",
            "4685/4685 [==============================] - 115s 25ms/step - loss: 0.4813 - accuracy: 0.7639\n",
            "Epoch 54/100\n",
            "4685/4685 [==============================] - 117s 25ms/step - loss: 0.4749 - accuracy: 0.7677\n",
            "Epoch 55/100\n",
            "4685/4685 [==============================] - 118s 25ms/step - loss: 0.4923 - accuracy: 0.7548\n",
            "Epoch 56/100\n",
            "4685/4685 [==============================] - 116s 25ms/step - loss: 0.4911 - accuracy: 0.7572\n",
            "Epoch 57/100\n",
            "4685/4685 [==============================] - 116s 25ms/step - loss: 0.4993 - accuracy: 0.7522\n",
            "Epoch 58/100\n",
            "4685/4685 [==============================] - 116s 25ms/step - loss: 0.4717 - accuracy: 0.7690\n",
            "Epoch 59/100\n",
            "4685/4685 [==============================] - 116s 25ms/step - loss: 0.4926 - accuracy: 0.7584\n",
            "Epoch 60/100\n",
            "4685/4685 [==============================] - 116s 25ms/step - loss: 0.4839 - accuracy: 0.7651\n",
            "Epoch 61/100\n",
            "4685/4685 [==============================] - 116s 25ms/step - loss: 0.4751 - accuracy: 0.7716\n",
            "Epoch 62/100\n",
            "4685/4685 [==============================] - 116s 25ms/step - loss: 0.4865 - accuracy: 0.7601\n",
            "Epoch 63/100\n",
            "4685/4685 [==============================] - 116s 25ms/step - loss: 0.4876 - accuracy: 0.7615\n",
            "Epoch 64/100\n",
            "4685/4685 [==============================] - 116s 25ms/step - loss: 0.4721 - accuracy: 0.7697\n",
            "Epoch 65/100\n",
            "4685/4685 [==============================] - 116s 25ms/step - loss: 0.4767 - accuracy: 0.7683\n",
            "Epoch 66/100\n",
            "4685/4685 [==============================] - 115s 25ms/step - loss: 0.4820 - accuracy: 0.7646\n",
            "Epoch 67/100\n",
            "4685/4685 [==============================] - 116s 25ms/step - loss: 0.4664 - accuracy: 0.7736\n",
            "Epoch 68/100\n",
            "4685/4685 [==============================] - 116s 25ms/step - loss: 0.4748 - accuracy: 0.7710\n",
            "Epoch 69/100\n",
            "4685/4685 [==============================] - 116s 25ms/step - loss: 0.4719 - accuracy: 0.7715\n",
            "Epoch 70/100\n",
            "4685/4685 [==============================] - 116s 25ms/step - loss: 0.4893 - accuracy: 0.7603\n",
            "Epoch 71/100\n",
            "4685/4685 [==============================] - 117s 25ms/step - loss: 0.4730 - accuracy: 0.7731\n",
            "Epoch 72/100\n",
            "4685/4685 [==============================] - 117s 25ms/step - loss: 0.4959 - accuracy: 0.7576\n",
            "Epoch 73/100\n",
            "4685/4685 [==============================] - 116s 25ms/step - loss: 0.4849 - accuracy: 0.7674\n",
            "Epoch 74/100\n",
            "4685/4685 [==============================] - 116s 25ms/step - loss: 0.5261 - accuracy: 0.7356\n",
            "Epoch 75/100\n",
            "4685/4685 [==============================] - 116s 25ms/step - loss: 0.4968 - accuracy: 0.7589\n",
            "Epoch 76/100\n",
            "4685/4685 [==============================] - 116s 25ms/step - loss: 0.4988 - accuracy: 0.7566\n",
            "Epoch 77/100\n",
            "4685/4685 [==============================] - 116s 25ms/step - loss: 0.5209 - accuracy: 0.7413\n",
            "Epoch 78/100\n",
            "4685/4685 [==============================] - 116s 25ms/step - loss: 0.4991 - accuracy: 0.7537\n",
            "Epoch 79/100\n",
            "4685/4685 [==============================] - 116s 25ms/step - loss: 0.5070 - accuracy: 0.7475\n",
            "Epoch 80/100\n",
            "4685/4685 [==============================] - 117s 25ms/step - loss: 0.4908 - accuracy: 0.7587\n",
            "Epoch 81/100\n",
            "4685/4685 [==============================] - 116s 25ms/step - loss: 0.4947 - accuracy: 0.7543\n",
            "Epoch 82/100\n",
            "4685/4685 [==============================] - 117s 25ms/step - loss: 0.5566 - accuracy: 0.7132\n",
            "Epoch 83/100\n",
            "4685/4685 [==============================] - 116s 25ms/step - loss: 0.4888 - accuracy: 0.7617\n",
            "Epoch 84/100\n",
            "4685/4685 [==============================] - 116s 25ms/step - loss: 0.4968 - accuracy: 0.7555\n",
            "Epoch 85/100\n",
            "4685/4685 [==============================] - 116s 25ms/step - loss: 0.4844 - accuracy: 0.7657\n",
            "Epoch 86/100\n",
            "4685/4685 [==============================] - 116s 25ms/step - loss: 0.4975 - accuracy: 0.7532\n",
            "Epoch 87/100\n",
            "4685/4685 [==============================] - 116s 25ms/step - loss: 0.4600 - accuracy: 0.7791\n",
            "Epoch 88/100\n",
            "4685/4685 [==============================] - 117s 25ms/step - loss: 0.4599 - accuracy: 0.7808\n",
            "Epoch 89/100\n",
            "4685/4685 [==============================] - 117s 25ms/step - loss: 0.4757 - accuracy: 0.7720\n",
            "Epoch 90/100\n",
            "4685/4685 [==============================] - 117s 25ms/step - loss: 0.4706 - accuracy: 0.7745\n",
            "Epoch 91/100\n",
            "4685/4685 [==============================] - 117s 25ms/step - loss: 0.4563 - accuracy: 0.7821\n",
            "Epoch 92/100\n",
            "4685/4685 [==============================] - 117s 25ms/step - loss: 0.4626 - accuracy: 0.7804\n",
            "Epoch 93/100\n",
            "4685/4685 [==============================] - 117s 25ms/step - loss: 0.5023 - accuracy: 0.7584\n",
            "Epoch 94/100\n",
            "4685/4685 [==============================] - 117s 25ms/step - loss: 0.4632 - accuracy: 0.7791\n",
            "Epoch 95/100\n",
            "4685/4685 [==============================] - 116s 25ms/step - loss: 0.4840 - accuracy: 0.7674\n",
            "Epoch 96/100\n",
            "4685/4685 [==============================] - 116s 25ms/step - loss: 0.4451 - accuracy: 0.7911\n",
            "Epoch 97/100\n",
            "4685/4685 [==============================] - 117s 25ms/step - loss: 0.4831 - accuracy: 0.7706\n",
            "Epoch 98/100\n",
            "4685/4685 [==============================] - 117s 25ms/step - loss: 0.4619 - accuracy: 0.7814\n",
            "Epoch 99/100\n",
            "4685/4685 [==============================] - 117s 25ms/step - loss: 0.4365 - accuracy: 0.7962\n",
            "Epoch 100/100\n",
            "4685/4685 [==============================] - 117s 25ms/step - loss: 0.4515 - accuracy: 0.7882\n"
          ]
        },
        {
          "output_type": "execute_result",
          "data": {
            "text/plain": [
              "<keras.callbacks.History at 0x7f62500e93d0>"
            ]
          },
          "metadata": {},
          "execution_count": 21
        }
      ]
    },
    {
      "cell_type": "markdown",
      "source": [
        "**Saving the final weights of Bi-LSTM after 100 epochs to google drive**"
      ],
      "metadata": {
        "id": "cUORN5I0REBP"
      }
    },
    {
      "cell_type": "code",
      "source": [
        "# save the model to disk\n",
        "filename = '/content/drive/Shareddrives/DEAP EEG/Models Saved/Valence/Bi_LSTM/bilstm_model_weights_epochs_100.h5'\n",
        "model.save(filename)"
      ],
      "metadata": {
        "id": "qFN6tW7vREBQ"
      },
      "execution_count": null,
      "outputs": []
    },
    {
      "cell_type": "markdown",
      "source": [
        "**Testing Accuracy of Bi-LSTM after 100 epochs**"
      ],
      "metadata": {
        "id": "xfxhsIEEREBQ"
      }
    },
    {
      "cell_type": "code",
      "source": [
        "score = model.evaluate(x_test, y_test, verbose=1)\n",
        "print('Test loss:', score[0])\n",
        "print('Test accuracy:', score[1])"
      ],
      "metadata": {
        "colab": {
          "base_uri": "https://localhost:8080/"
        },
        "outputId": "4fee7578-a1d2-4296-cea2-00b02448b2e8",
        "id": "rKmtLVWwREBQ"
      },
      "execution_count": null,
      "outputs": [
        {
          "output_type": "stream",
          "name": "stdout",
          "text": [
            "4880/4880 [==============================] - 43s 8ms/step - loss: 0.4714 - accuracy: 0.7755\n",
            "Test loss: 0.47144263982772827\n",
            "Test accuracy: 0.775531530380249\n"
          ]
        }
      ]
    },
    {
      "cell_type": "markdown",
      "source": [
        "**Loading the Bi-LSTM model of 100epochs from google drive**"
      ],
      "metadata": {
        "id": "KVzsAT5YREBQ"
      }
    },
    {
      "cell_type": "code",
      "source": [
        "from keras.models import load_model\n",
        "model_loaded = load_model('/content/drive/Shareddrives/DEAP EEG/Models Saved/Valence/Bi_LSTM/bilstm_model_weights_epochs_100.h5')\n",
        "score = model_loaded.evaluate(x_test, y_test, verbose=1)\n",
        "print('Test loss:', score[0])\n",
        "print('Test accuracy:', score[1])"
      ],
      "metadata": {
        "colab": {
          "base_uri": "https://localhost:8080/"
        },
        "outputId": "af192f57-341f-4ecf-d6b0-058cbf012660",
        "id": "JJCKZmp-REBQ"
      },
      "execution_count": null,
      "outputs": [
        {
          "output_type": "stream",
          "name": "stdout",
          "text": [
            "4880/4880 [==============================] - 37s 7ms/step - loss: 0.4714 - accuracy: 0.7755\n",
            "Test loss: 0.47144263982772827\n",
            "Test accuracy: 0.775531530380249\n"
          ]
        }
      ]
    },
    {
      "cell_type": "code",
      "source": [
        "y_true = np.array(y_test)\n",
        "y_pred = model_loaded.predict(x_test)"
      ],
      "metadata": {
        "id": "41mry6LTREBQ"
      },
      "execution_count": null,
      "outputs": []
    },
    {
      "cell_type": "markdown",
      "source": [
        "**Classification report of Bi-LSTM after 100 epochs**"
      ],
      "metadata": {
        "id": "5Po5KnPOREBQ"
      }
    },
    {
      "cell_type": "code",
      "source": [
        "y_pred = np.squeeze(y_pred)\n",
        "y_pred = np.array(y_pred >= 0.5, dtype=np.int)\n",
        "\n",
        "from sklearn.metrics import classification_report\n",
        "print(classification_report(y_test, y_pred))"
      ],
      "metadata": {
        "colab": {
          "base_uri": "https://localhost:8080/"
        },
        "outputId": "527ef8e0-e60e-4015-ef32-ca9665cc8887",
        "id": "-zOTOlgYREBQ"
      },
      "execution_count": null,
      "outputs": [
        {
          "output_type": "stream",
          "name": "stdout",
          "text": [
            "              precision    recall  f1-score   support\n",
            "\n",
            "           0       0.74      0.74      0.74     67832\n",
            "           1       0.80      0.80      0.80     88328\n",
            "\n",
            "   micro avg       0.78      0.77      0.77    156160\n",
            "   macro avg       0.77      0.77      0.77    156160\n",
            "weighted avg       0.78      0.77      0.77    156160\n",
            " samples avg       0.76      0.77      0.77    156160\n",
            "\n"
          ]
        }
      ]
    },
    {
      "cell_type": "markdown",
      "source": [
        "# Machine Learning Algorithms"
      ],
      "metadata": {
        "id": "4bmKk8M0RyVU"
      }
    },
    {
      "cell_type": "markdown",
      "source": [
        "## SVM"
      ],
      "metadata": {
        "id": "KHJOVgCM8Urm"
      }
    },
    {
      "cell_type": "code",
      "source": [
        "# import SVC classifier\n",
        "from sklearn.svm import SVC\n",
        "# import metrics to compute accuracy\n",
        "from sklearn.metrics import accuracy_score\n",
        "\n",
        "\n",
        "# instantiate classifier with default hyperparameters\n",
        "svc=SVC() \n"
      ],
      "metadata": {
        "id": "Gsgq8Q6Df2f6"
      },
      "execution_count": null,
      "outputs": []
    },
    {
      "cell_type": "code",
      "source": [
        "# import SVC classifier\n",
        "from sklearn.svm import SVC\n",
        "# import metrics to compute accuracy\n",
        "from sklearn.metrics import accuracy_score\n",
        "\n",
        "\n",
        "# instantiate classifier with default hyperparameters\n",
        "svc=SVC() \n",
        "\n",
        "\n",
        "# fit classifier to training set\n",
        "svc.fit(x_train,Z) #from label training the valence label values have been loaded in Z\n",
        "\n",
        "\n",
        "# make predictions on test set\n",
        "y_pred=svc.predict(x_test)"
      ],
      "metadata": {
        "id": "r6i3M2o2BjG3"
      },
      "execution_count": null,
      "outputs": []
    },
    {
      "cell_type": "code",
      "source": [
        "print('Model accuracy score with default hyperparameters: {0:0.4f}'. format(accuracy_score(L, y_pred))) ##from label testing the valence label values have been loaded in L"
      ],
      "metadata": {
        "colab": {
          "base_uri": "https://localhost:8080/"
        },
        "id": "93Bh29mkmV9F",
        "outputId": "79a2dced-ce43-49d2-f62c-83b495adf97e"
      },
      "execution_count": null,
      "outputs": [
        {
          "output_type": "stream",
          "name": "stdout",
          "text": [
            "Model accuracy score with default hyperparameters: 0.7520\n"
          ]
        }
      ]
    },
    {
      "cell_type": "markdown",
      "source": [
        "**Saving the SVM model to google drive**"
      ],
      "metadata": {
        "id": "bdUXrSIgJhf7"
      }
    },
    {
      "cell_type": "code",
      "source": [
        "# save the model to disk\n",
        "filename = '/content/drive/Shareddrives/DEAP EEG/Models Saved/Valence/SVM/finalized_model.sav'\n",
        "pickle.dump(svc, open(filename, 'wb'))"
      ],
      "metadata": {
        "id": "vzwFMxxom4fp"
      },
      "execution_count": null,
      "outputs": []
    },
    {
      "cell_type": "code",
      "source": [
        "filename = '/content/drive/Shareddrives/DEAP EEG/Models Saved/Valence/SVM/finalized_model.sav'"
      ],
      "metadata": {
        "id": "tQjAtLdDJReK"
      },
      "execution_count": null,
      "outputs": []
    },
    {
      "cell_type": "markdown",
      "source": [
        "**Loading the saved SVM model from google drive**"
      ],
      "metadata": {
        "id": "VdLUd5DVJZs-"
      }
    },
    {
      "cell_type": "code",
      "source": [
        "loaded_model = pickle.load(open(filename, 'rb'))"
      ],
      "metadata": {
        "id": "hnlCfyfaJuyT"
      },
      "execution_count": null,
      "outputs": []
    },
    {
      "cell_type": "markdown",
      "source": [
        "**Classification report for SVM**"
      ],
      "metadata": {
        "id": "ItFRYHneJpOO"
      }
    },
    {
      "cell_type": "code",
      "source": [
        "y_true = np.array(L)\n",
        "y_pred = loaded_model.predict(x_test)\n",
        "y_pred = np.squeeze(y_pred)\n",
        "y_pred = np.array(y_pred >= 0.5, dtype=np.int)\n",
        "\n",
        "from sklearn.metrics import classification_report\n",
        "print(classification_report(L, y_pred))"
      ],
      "metadata": {
        "colab": {
          "base_uri": "https://localhost:8080/"
        },
        "id": "MUn0Th-QJcxN",
        "outputId": "e444fab7-96ce-426b-ef72-228c77b54689"
      },
      "execution_count": null,
      "outputs": [
        {
          "output_type": "stream",
          "name": "stdout",
          "text": [
            "              precision    recall  f1-score   support\n",
            "\n",
            "         0.0       0.75      0.65      0.70     67832\n",
            "         1.0       0.76      0.83      0.79     88328\n",
            "\n",
            "    accuracy                           0.75    156160\n",
            "   macro avg       0.75      0.74      0.74    156160\n",
            "weighted avg       0.75      0.75      0.75    156160\n",
            "\n"
          ]
        }
      ]
    },
    {
      "cell_type": "markdown",
      "source": [
        "## Logistic Regression Model"
      ],
      "metadata": {
        "id": "4wyR87ai8YX4"
      }
    },
    {
      "cell_type": "code",
      "source": [
        "from sklearn.linear_model import LogisticRegression\n",
        "from sklearn import metrics\n",
        "logreg = LogisticRegression()"
      ],
      "metadata": {
        "id": "g2KRzqgW8a69"
      },
      "execution_count": null,
      "outputs": []
    },
    {
      "cell_type": "markdown",
      "source": [
        "**Fitting the logistic regression model**"
      ],
      "metadata": {
        "id": "N8sl_LyLJx47"
      }
    },
    {
      "cell_type": "code",
      "source": [
        "logreg.fit(x_train,Z) #from label training the valence label values have been loaded in Z"
      ],
      "metadata": {
        "colab": {
          "base_uri": "https://localhost:8080/"
        },
        "id": "2lJKZBHU9wff",
        "outputId": "8cd09540-f4c2-489c-b960-522b7c3d5da5"
      },
      "execution_count": null,
      "outputs": [
        {
          "output_type": "execute_result",
          "data": {
            "text/plain": [
              "LogisticRegression()"
            ]
          },
          "metadata": {},
          "execution_count": 34
        }
      ]
    },
    {
      "cell_type": "code",
      "source": [
        "y_pred = logreg.predict(x_test)"
      ],
      "metadata": {
        "id": "OkzGTJtc8yHK"
      },
      "execution_count": null,
      "outputs": []
    },
    {
      "cell_type": "code",
      "source": [
        "print('Model accuracy score: {0:0.4f}'. format(accuracy_score(L, y_pred))) #from label testing the valence label values have been loaded in L"
      ],
      "metadata": {
        "colab": {
          "base_uri": "https://localhost:8080/"
        },
        "id": "q1PcTVn0IMp1",
        "outputId": "3980f7da-8a86-44b0-b8f6-33ea150f206e"
      },
      "execution_count": null,
      "outputs": [
        {
          "output_type": "stream",
          "name": "stdout",
          "text": [
            "Model accuracy score: 0.5879\n"
          ]
        }
      ]
    },
    {
      "cell_type": "code",
      "source": [
        "print('Accuracy of logistic regression classifier on test set: {:.2f}'.format(logreg.score(x_test, L))) #from label testing the valence label values have been loaded in L"
      ],
      "metadata": {
        "colab": {
          "base_uri": "https://localhost:8080/"
        },
        "id": "3xZcYzUi87gw",
        "outputId": "90c00c72-1b4b-48bb-f16e-eaf67bab8376"
      },
      "execution_count": null,
      "outputs": [
        {
          "output_type": "stream",
          "name": "stdout",
          "text": [
            "Accuracy of logistic regression classifier on test set: 0.59\n"
          ]
        }
      ]
    },
    {
      "cell_type": "markdown",
      "source": [
        "**Saving the logistic regression model to google drive**"
      ],
      "metadata": {
        "id": "WAeXWbWLK24-"
      }
    },
    {
      "cell_type": "code",
      "source": [
        "# save the model to disk\n",
        "filename = '/content/drive/Shareddrives/DEAP EEG/Models Saved/Valence/logistic_regression/finalized_model.sav'\n",
        "pickle.dump(logreg, open(filename, 'wb'))"
      ],
      "metadata": {
        "id": "WVYlccQBCFDn"
      },
      "execution_count": null,
      "outputs": []
    },
    {
      "cell_type": "code",
      "source": [
        "filename = '/content/drive/Shareddrives/DEAP EEG/Models Saved/Valence/logistic_regression/finalized_model.sav'\n"
      ],
      "metadata": {
        "id": "d8bvOdh5Gd02"
      },
      "execution_count": null,
      "outputs": []
    },
    {
      "cell_type": "markdown",
      "source": [
        "**Loading the logistic regression from google drive**"
      ],
      "metadata": {
        "id": "OrNRuWuMK-NC"
      }
    },
    {
      "cell_type": "code",
      "source": [
        "loaded_model = pickle.load(open(filename, 'rb'))\n",
        "result = loaded_model.score(x_test, L)\n",
        "print(result)"
      ],
      "metadata": {
        "colab": {
          "base_uri": "https://localhost:8080/"
        },
        "id": "Q8O9TkAtGc9o",
        "outputId": "5032c0e0-f8de-4999-fcef-08d487b443bb"
      },
      "execution_count": null,
      "outputs": [
        {
          "output_type": "stream",
          "name": "stdout",
          "text": [
            "0.5879290471311476\n"
          ]
        }
      ]
    },
    {
      "cell_type": "markdown",
      "source": [
        "**Classification report for logistic regression**"
      ],
      "metadata": {
        "id": "BzxJetHDLGYx"
      }
    },
    {
      "cell_type": "code",
      "source": [
        "y_true = np.array(L)\n",
        "y_pred = loaded_model.predict(x_test)\n",
        "y_pred = np.squeeze(y_pred)\n",
        "y_pred = np.array(y_pred >= 0.5, dtype=np.int)\n",
        "\n",
        "from sklearn.metrics import classification_report\n",
        "print(classification_report(L, y_pred))"
      ],
      "metadata": {
        "colab": {
          "base_uri": "https://localhost:8080/"
        },
        "id": "yzCCscJxGs7I",
        "outputId": "42b40418-f8e5-4b3c-c2d7-8f14b7db9a4b"
      },
      "execution_count": null,
      "outputs": [
        {
          "output_type": "stream",
          "name": "stdout",
          "text": [
            "              precision    recall  f1-score   support\n",
            "\n",
            "         0.0       0.55      0.29      0.38     67832\n",
            "         1.0       0.60      0.82      0.69     88328\n",
            "\n",
            "    accuracy                           0.59    156160\n",
            "   macro avg       0.57      0.55      0.54    156160\n",
            "weighted avg       0.58      0.59      0.56    156160\n",
            "\n"
          ]
        }
      ]
    },
    {
      "cell_type": "markdown",
      "source": [
        "## Random Forest Classifier"
      ],
      "metadata": {
        "id": "8Bq2k9yHBStt"
      }
    },
    {
      "cell_type": "markdown",
      "source": [
        "**Fitting the random forest classifier with 50 n estimators**"
      ],
      "metadata": {
        "id": "6pL8FvKSLcYh"
      }
    },
    {
      "cell_type": "code",
      "source": [
        "from sklearn.ensemble import RandomForestClassifier\n",
        "model = RandomForestClassifier(n_estimators=50)\n",
        "model.fit(x_train,Z) #from label training the valence label values have been loaded in Z"
      ],
      "metadata": {
        "colab": {
          "base_uri": "https://localhost:8080/"
        },
        "id": "M0vbhL2t-Gp5",
        "outputId": "471a79e6-31ef-434a-c8c6-95566ccc4c85"
      },
      "execution_count": null,
      "outputs": [
        {
          "output_type": "execute_result",
          "data": {
            "text/plain": [
              "RandomForestClassifier(n_estimators=50)"
            ]
          },
          "metadata": {},
          "execution_count": 26
        }
      ]
    },
    {
      "cell_type": "markdown",
      "source": [
        "**Accuracy of Random Forest Classifier for 50 n estimators**"
      ],
      "metadata": {
        "id": "PbnPpApILQfe"
      }
    },
    {
      "cell_type": "code",
      "source": [
        "model.score(x_test,L) #from label testing the valence label values have been loaded in L\n"
      ],
      "metadata": {
        "colab": {
          "base_uri": "https://localhost:8080/"
        },
        "id": "6GsVQKw0-Yl7",
        "outputId": "2e17d2bc-95c4-443a-deed-a389754b3e62"
      },
      "execution_count": null,
      "outputs": [
        {
          "output_type": "execute_result",
          "data": {
            "text/plain": [
              "0.948969006147541"
            ]
          },
          "metadata": {},
          "execution_count": 27
        }
      ]
    },
    {
      "cell_type": "markdown",
      "source": [
        "**Fitting the random forest classifier with 100 n estimators**"
      ],
      "metadata": {
        "id": "E0IFP53MLbIf"
      }
    },
    {
      "cell_type": "code",
      "source": [
        "from sklearn.ensemble import RandomForestClassifier\n",
        "model = RandomForestClassifier(n_estimators=100) \n",
        "model.fit(x_train,Z) #from label training the valence label values have been loaded in Z"
      ],
      "metadata": {
        "colab": {
          "base_uri": "https://localhost:8080/"
        },
        "id": "avMOziY8AqLn",
        "outputId": "b87055d8-f397-4f87-b5a0-c5c313e89d6f"
      },
      "execution_count": null,
      "outputs": [
        {
          "output_type": "execute_result",
          "data": {
            "text/plain": [
              "RandomForestClassifier()"
            ]
          },
          "metadata": {},
          "execution_count": 28
        }
      ]
    },
    {
      "cell_type": "markdown",
      "source": [
        "**Accuracy of Random Forest Classifier for 100 n estimators**"
      ],
      "metadata": {
        "id": "c9TaAUoJLrw3"
      }
    },
    {
      "cell_type": "code",
      "source": [
        "model.score(x_test,L) #from label testing the valence label values have been loaded in L"
      ],
      "metadata": {
        "colab": {
          "base_uri": "https://localhost:8080/"
        },
        "id": "qKBJyYBCAue6",
        "outputId": "e65299a4-20d9-4f44-d08c-6686af59c61b"
      },
      "execution_count": null,
      "outputs": [
        {
          "output_type": "execute_result",
          "data": {
            "text/plain": [
              "0.9528816598360655"
            ]
          },
          "metadata": {},
          "execution_count": 29
        }
      ]
    },
    {
      "cell_type": "markdown",
      "source": [
        "**Fitting the random forest classifier with 200 n estimators**"
      ],
      "metadata": {
        "id": "2JtP7Lc6Ll3y"
      }
    },
    {
      "cell_type": "code",
      "source": [
        "from sklearn.ensemble import RandomForestClassifier\n",
        "model = RandomForestClassifier(n_estimators=200)\n",
        "model.fit(x_train,Z) #from label training the valence label values have been loaded in Z"
      ],
      "metadata": {
        "colab": {
          "base_uri": "https://localhost:8080/"
        },
        "id": "iKo2O4wUHBAd",
        "outputId": "5c6a6daf-29ae-40bd-dfab-2e27a3d32c06"
      },
      "execution_count": null,
      "outputs": [
        {
          "output_type": "execute_result",
          "data": {
            "text/plain": [
              "RandomForestClassifier(n_estimators=200)"
            ]
          },
          "metadata": {},
          "execution_count": 33
        }
      ]
    },
    {
      "cell_type": "markdown",
      "source": [
        "**Accuracy of Random Forest Classifier for 200 n estimators**"
      ],
      "metadata": {
        "id": "kD0OfOKaL00G"
      }
    },
    {
      "cell_type": "code",
      "source": [
        "model.score(x_test,L) #from label testing the valence label values have been loaded in L"
      ],
      "metadata": {
        "colab": {
          "base_uri": "https://localhost:8080/"
        },
        "id": "p0slupRvHDdl",
        "outputId": "e9e33c99-9eac-4213-ec9a-2a42b84836ec"
      },
      "execution_count": null,
      "outputs": [
        {
          "output_type": "execute_result",
          "data": {
            "text/plain": [
              "0.9555968237704918"
            ]
          },
          "metadata": {},
          "execution_count": 34
        }
      ]
    },
    {
      "cell_type": "markdown",
      "source": [
        "**Fitting the random forest classifier with 500 n estimators**"
      ],
      "metadata": {
        "id": "oS2FUXudL4-v"
      }
    },
    {
      "cell_type": "code",
      "source": [
        "from sklearn.ensemble import RandomForestClassifier\n",
        "model = RandomForestClassifier(n_estimators=500)\n",
        "model.fit(x_train,Z) #from label training the valence label values have been loaded in Z"
      ],
      "metadata": {
        "colab": {
          "base_uri": "https://localhost:8080/"
        },
        "id": "lRqo3xbyRpxm",
        "outputId": "62fd72f7-32be-474d-8d4c-213dee722294"
      },
      "execution_count": null,
      "outputs": [
        {
          "output_type": "execute_result",
          "data": {
            "text/plain": [
              "RandomForestClassifier(n_estimators=500)"
            ]
          },
          "metadata": {},
          "execution_count": 35
        }
      ]
    },
    {
      "cell_type": "markdown",
      "source": [
        "**Accuracy of Random Forest Classifier for 500 n estimators**"
      ],
      "metadata": {
        "id": "LRg4tJvoL6kk"
      }
    },
    {
      "cell_type": "code",
      "source": [
        "model.score(x_test,L) #from label testing the valence label values have been loaded in L"
      ],
      "metadata": {
        "colab": {
          "base_uri": "https://localhost:8080/"
        },
        "id": "5q4MrOsoRsGq",
        "outputId": "54de6933-8df3-44ef-9b27-623d7dcdb55e"
      },
      "execution_count": null,
      "outputs": [
        {
          "output_type": "execute_result",
          "data": {
            "text/plain": [
              "0.9576396004098361"
            ]
          },
          "metadata": {},
          "execution_count": 36
        }
      ]
    },
    {
      "cell_type": "markdown",
      "source": [
        "## Decision Tree Classifier"
      ],
      "metadata": {
        "id": "uoc6R0YHBacr"
      }
    },
    {
      "cell_type": "code",
      "source": [
        "from sklearn import tree\n",
        "dt_model = tree.DecisionTreeClassifier()"
      ],
      "metadata": {
        "id": "Hrv1seeKBvsz"
      },
      "execution_count": null,
      "outputs": []
    },
    {
      "cell_type": "markdown",
      "source": [
        "**Fitting the decision tree classifier**"
      ],
      "metadata": {
        "id": "7AcQ28jIMMNr"
      }
    },
    {
      "cell_type": "code",
      "source": [
        "dt_model.fit(x_train,Z)  #from label training the valence label values have been loaded in Z"
      ],
      "metadata": {
        "colab": {
          "base_uri": "https://localhost:8080/"
        },
        "id": "GiFUH935B7AG",
        "outputId": "cc943da4-0eea-4af2-b149-ed8e3ad1a2c9"
      },
      "execution_count": null,
      "outputs": [
        {
          "output_type": "execute_result",
          "data": {
            "text/plain": [
              "DecisionTreeClassifier()"
            ]
          },
          "metadata": {},
          "execution_count": 31
        }
      ]
    },
    {
      "cell_type": "markdown",
      "source": [
        "**Accuracy of Decision Tree Classifier**"
      ],
      "metadata": {
        "id": "uyUiyTPeMQ2D"
      }
    },
    {
      "cell_type": "code",
      "source": [
        "dt_model.score(x_test,L) #from label testing the valence label values have been loaded in L"
      ],
      "metadata": {
        "colab": {
          "base_uri": "https://localhost:8080/"
        },
        "id": "bovhYt83B_vG",
        "outputId": "21d259a1-65f2-4c01-ccc1-b1415c621715"
      },
      "execution_count": null,
      "outputs": [
        {
          "output_type": "execute_result",
          "data": {
            "text/plain": [
              "0.8342405225409836"
            ]
          },
          "metadata": {},
          "execution_count": 32
        }
      ]
    },
    {
      "cell_type": "markdown",
      "source": [
        "## K-Nearest Neighbor(KNN) "
      ],
      "metadata": {
        "id": "SuYr44d4ffqo"
      }
    },
    {
      "cell_type": "code",
      "source": [
        "from sklearn.neighbors import KNeighborsClassifier\n",
        "knn = KNeighborsClassifier()"
      ],
      "metadata": {
        "id": "St_u_7AsfiCd"
      },
      "execution_count": null,
      "outputs": []
    },
    {
      "cell_type": "markdown",
      "source": [
        "**Fitting the KNN model**"
      ],
      "metadata": {
        "id": "c1sNgTH5M5iH"
      }
    },
    {
      "cell_type": "code",
      "source": [
        "knn.fit(x_train,Z) #from label training the valence label values have been loaded in Z"
      ],
      "metadata": {
        "colab": {
          "base_uri": "https://localhost:8080/"
        },
        "id": "IF_SUz1YgGcn",
        "outputId": "d7715e14-ce73-4a71-aeee-4cf94655e494"
      },
      "execution_count": null,
      "outputs": [
        {
          "output_type": "execute_result",
          "data": {
            "text/plain": [
              "KNeighborsClassifier()"
            ]
          },
          "metadata": {},
          "execution_count": 18
        }
      ]
    },
    {
      "cell_type": "markdown",
      "source": [
        "**Accuracy of KNN model**"
      ],
      "metadata": {
        "id": "rxG_2XJHM8_z"
      }
    },
    {
      "cell_type": "code",
      "source": [
        "knn.score(x_test,L) #from label testing the valence label values have been loaded in L"
      ],
      "metadata": {
        "colab": {
          "base_uri": "https://localhost:8080/"
        },
        "id": "8eWHR9Y-gmuO",
        "outputId": "38fc7b12-447a-4d8c-8194-2c9120661082"
      },
      "execution_count": null,
      "outputs": [
        {
          "output_type": "execute_result",
          "data": {
            "text/plain": [
              "0.9580302254098361"
            ]
          },
          "metadata": {},
          "execution_count": 19
        }
      ]
    },
    {
      "cell_type": "markdown",
      "source": [
        "**Saving the KNN model to google drive**"
      ],
      "metadata": {
        "id": "lQeSWskxNF5L"
      }
    },
    {
      "cell_type": "code",
      "source": [
        "# save the model to disk\n",
        "filename = '/content/drive/Shareddrives/DEAP EEG/Models Saved/Valence/KNN/finalized_model.sav'\n",
        "pickle.dump(knn, open(filename, 'wb'))"
      ],
      "metadata": {
        "id": "fGZoY7UEnnhe"
      },
      "execution_count": null,
      "outputs": []
    },
    {
      "cell_type": "markdown",
      "source": [
        "## Naive Bayes Classifier"
      ],
      "metadata": {
        "id": "qxnOQD9YDXoF"
      }
    },
    {
      "cell_type": "code",
      "source": [
        "from sklearn.naive_bayes import GaussianNB\n",
        "nb_model = GaussianNB()"
      ],
      "metadata": {
        "id": "dMkU6hlmDa73"
      },
      "execution_count": null,
      "outputs": []
    },
    {
      "cell_type": "markdown",
      "source": [
        "**Fitting the Naive Bayes Classifier**"
      ],
      "metadata": {
        "id": "20r-s4_XNPNV"
      }
    },
    {
      "cell_type": "code",
      "source": [
        "nb_model.fit(x_train,Z) #from label training the valence label values have been loaded in Z"
      ],
      "metadata": {
        "colab": {
          "base_uri": "https://localhost:8080/"
        },
        "id": "3gpA084PDmgF",
        "outputId": "49202a33-37f7-4824-dd71-8343227339f8"
      },
      "execution_count": null,
      "outputs": [
        {
          "output_type": "execute_result",
          "data": {
            "text/plain": [
              "GaussianNB()"
            ]
          },
          "metadata": {},
          "execution_count": 19
        }
      ]
    },
    {
      "cell_type": "markdown",
      "source": [
        "**Accuracy of Naive Bayes Classifier**"
      ],
      "metadata": {
        "id": "_E1fo0zbNTSR"
      }
    },
    {
      "cell_type": "code",
      "source": [
        "nb_model.score(x_test,L) #from label testing the valence label values have been loaded in L"
      ],
      "metadata": {
        "colab": {
          "base_uri": "https://localhost:8080/"
        },
        "id": "Kx_VNQ3JDvvI",
        "outputId": "0ad3e7ad-0369-4c43-8cc2-dda7e2ca4687"
      },
      "execution_count": null,
      "outputs": [
        {
          "output_type": "execute_result",
          "data": {
            "text/plain": [
              "0.5591956967213115"
            ]
          },
          "metadata": {},
          "execution_count": 20
        }
      ]
    },
    {
      "cell_type": "code",
      "source": [
        "y_true = np.array(L)\n",
        "y_pred = nb_model.predict(x_test)"
      ],
      "metadata": {
        "id": "HnNMhWagFCMJ"
      },
      "execution_count": null,
      "outputs": []
    },
    {
      "cell_type": "markdown",
      "source": [
        "**Classification report of Naive Bayes Classifier**"
      ],
      "metadata": {
        "id": "VRNB_ztPNdax"
      }
    },
    {
      "cell_type": "code",
      "source": [
        "y_pred = np.squeeze(y_pred)\n",
        "y_pred = np.array(y_pred >= 0.5, dtype=np.int)\n",
        "\n",
        "from sklearn.metrics import classification_report\n",
        "print(classification_report(L, y_pred)) #from label testing the valence label values have been loaded in L"
      ],
      "metadata": {
        "colab": {
          "base_uri": "https://localhost:8080/"
        },
        "id": "Rvyo-TOVFP_t",
        "outputId": "6d7c5f8e-fd6b-4bf9-ec3d-2c443f2b5f68"
      },
      "execution_count": null,
      "outputs": [
        {
          "output_type": "stream",
          "name": "stdout",
          "text": [
            "              precision    recall  f1-score   support\n",
            "\n",
            "         0.0       0.49      0.44      0.47     67832\n",
            "         1.0       0.60      0.65      0.62     88328\n",
            "\n",
            "    accuracy                           0.56    156160\n",
            "   macro avg       0.55      0.55      0.55    156160\n",
            "weighted avg       0.55      0.56      0.56    156160\n",
            "\n"
          ]
        }
      ]
    },
    {
      "cell_type": "markdown",
      "source": [
        "## XGBoost"
      ],
      "metadata": {
        "id": "8CCHGRrcEnQT"
      }
    },
    {
      "cell_type": "code",
      "source": [
        "import xgboost as xgb\n",
        "xg_model = xgb.XGBClassifier()"
      ],
      "metadata": {
        "id": "rdXxqnEqEpey"
      },
      "execution_count": null,
      "outputs": []
    },
    {
      "cell_type": "markdown",
      "source": [
        "**Fitting the XGBoost Model**"
      ],
      "metadata": {
        "id": "jPut7I16Nrsa"
      }
    },
    {
      "cell_type": "code",
      "source": [
        "xg_model.fit(x_train,Z) #from label training the valence label values have been loaded in Z"
      ],
      "metadata": {
        "colab": {
          "base_uri": "https://localhost:8080/"
        },
        "id": "JWSnCJ7gE9to",
        "outputId": "794414e1-389d-4eed-9a15-84c2dd576ea7"
      },
      "execution_count": null,
      "outputs": [
        {
          "output_type": "execute_result",
          "data": {
            "text/plain": [
              "XGBClassifier()"
            ]
          },
          "metadata": {},
          "execution_count": 35
        }
      ]
    },
    {
      "cell_type": "markdown",
      "source": [
        "**Accuracy for XGBoost**"
      ],
      "metadata": {
        "id": "X86opwweNo_u"
      }
    },
    {
      "cell_type": "code",
      "source": [
        "xg_model.score(x_test,L) #from label testing the valence label values have been loaded in L"
      ],
      "metadata": {
        "colab": {
          "base_uri": "https://localhost:8080/"
        },
        "id": "Kapqu46sFWcu",
        "outputId": "a0be1330-2466-4074-ee0f-39c50387246c"
      },
      "execution_count": null,
      "outputs": [
        {
          "output_type": "execute_result",
          "data": {
            "text/plain": [
              "0.6369492827868852"
            ]
          },
          "metadata": {},
          "execution_count": 37
        }
      ]
    },
    {
      "cell_type": "markdown",
      "source": [
        "**Classification report for XGBoost**"
      ],
      "metadata": {
        "id": "QcZk28BuNkWO"
      }
    },
    {
      "cell_type": "code",
      "source": [
        "y_true = np.array(L)\n",
        "y_pred = xg_model.predict(x_test)\n",
        "y_pred = np.squeeze(y_pred)\n",
        "y_pred = np.array(y_pred >= 0.5, dtype=np.int)\n",
        "\n",
        "from sklearn.metrics import classification_report\n",
        "print(classification_report(L, y_pred)) #from label testing the valence label values have been loaded in L"
      ],
      "metadata": {
        "colab": {
          "base_uri": "https://localhost:8080/"
        },
        "id": "eVfDvbhqHzfz",
        "outputId": "1c716797-9ad8-4ae1-f0e9-54d0d48d2ccd"
      },
      "execution_count": null,
      "outputs": [
        {
          "output_type": "stream",
          "name": "stdout",
          "text": [
            "              precision    recall  f1-score   support\n",
            "\n",
            "         0.0       0.66      0.34      0.45     67832\n",
            "         1.0       0.63      0.86      0.73     88328\n",
            "\n",
            "    accuracy                           0.64    156160\n",
            "   macro avg       0.64      0.60      0.59    156160\n",
            "weighted avg       0.64      0.64      0.61    156160\n",
            "\n"
          ]
        }
      ]
    }
  ]
}